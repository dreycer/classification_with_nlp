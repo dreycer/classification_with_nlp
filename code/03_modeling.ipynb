{
 "cells": [
  {
   "cell_type": "markdown",
   "id": "ffda1e62",
   "metadata": {},
   "source": [
    "# Modeling - Notebook 3"
   ]
  },
  {
   "cell_type": "markdown",
   "id": "0ebaf198",
   "metadata": {},
   "source": [
    "- [Imports and Reading in Data](#Imports-and-Reading-in-Data)\n",
    "- [Baseline Score](#Baseline-Score)\n",
    "- [Vectorizing and Setting up for Modeling](#Vectorizing-and-Setting-up-for-Modeling)\n",
    "-- [Pipelines](#Pipelines)\n",
    "-- [Models and Scoring](#Models-and-Scores)\n",
    "- [Visualizations](#Visualizations)\n",
    "-- [Confusion Matrix](#Confusion-Matrix)\n",
    "-- [Top Features](#Top-Features)\n",
    "- [Conclusions](#Conclusions)"
   ]
  },
  {
   "cell_type": "markdown",
   "id": "fadb4f61",
   "metadata": {},
   "source": [
    "## Imports and Reading in Data"
   ]
  },
  {
   "cell_type": "code",
   "execution_count": 1,
   "id": "7b8d4ccf",
   "metadata": {},
   "outputs": [],
   "source": [
    "import pandas as pd\n",
    "import numpy as np\n",
    "\n",
    "from sklearn.ensemble import RandomForestClassifier, VotingClassifier, GradientBoostingClassifier\n",
    "from sklearn.preprocessing import StandardScaler\n",
    "from sklearn.model_selection import GridSearchCV, KFold, cross_validate\n",
    "from sklearn.feature_extraction import text\n",
    "from sklearn.feature_extraction.text import TfidfVectorizer\n",
    "from sklearn.linear_model import LogisticRegression\n",
    "from sklearn.neighbors import KNeighborsClassifier\n",
    "from sklearn.pipeline import Pipeline\n",
    "from sklearn.tree import DecisionTreeClassifier\n",
    "from sklearn import metrics\n",
    "\n",
    "import matplotlib.pyplot as plt\n",
    "import seaborn as sns"
   ]
  },
  {
   "cell_type": "code",
   "execution_count": 2,
   "id": "fe38d800",
   "metadata": {},
   "outputs": [
    {
     "data": {
      "text/plain": [
       "full_text         0\n",
       "beyondbump        0\n",
       "word_count        0\n",
       "tokenized_text    0\n",
       "stemmed_text      0\n",
       "question_mark     0\n",
       "something_old     0\n",
       "dtype: int64"
      ]
     },
     "execution_count": 2,
     "metadata": {},
     "output_type": "execute_result"
    }
   ],
   "source": [
    "# import data\n",
    "df = pd.read_csv('../data/clean_df.csv')\n",
    "\n",
    "# checking for null values\n",
    "df.isnull().sum()"
   ]
  },
  {
   "cell_type": "code",
   "execution_count": 3,
   "id": "ea881776",
   "metadata": {},
   "outputs": [
    {
     "data": {
      "text/html": [
       "<div>\n",
       "<style scoped>\n",
       "    .dataframe tbody tr th:only-of-type {\n",
       "        vertical-align: middle;\n",
       "    }\n",
       "\n",
       "    .dataframe tbody tr th {\n",
       "        vertical-align: top;\n",
       "    }\n",
       "\n",
       "    .dataframe thead th {\n",
       "        text-align: right;\n",
       "    }\n",
       "</style>\n",
       "<table border=\"1\" class=\"dataframe\">\n",
       "  <thead>\n",
       "    <tr style=\"text-align: right;\">\n",
       "      <th></th>\n",
       "      <th>full_text</th>\n",
       "      <th>beyondbump</th>\n",
       "      <th>word_count</th>\n",
       "      <th>tokenized_text</th>\n",
       "      <th>stemmed_text</th>\n",
       "      <th>question_mark</th>\n",
       "      <th>something_old</th>\n",
       "    </tr>\n",
       "  </thead>\n",
       "  <tbody>\n",
       "    <tr>\n",
       "      <th>0</th>\n",
       "      <td>prenatals without iron!? for the love of god, ...</td>\n",
       "      <td>0</td>\n",
       "      <td>80</td>\n",
       "      <td>prenatals without iron ! ? for the love of god...</td>\n",
       "      <td>prenat without iron ! ? for the love of god , ...</td>\n",
       "      <td>1</td>\n",
       "      <td>0</td>\n",
       "    </tr>\n",
       "    <tr>\n",
       "      <th>1</th>\n",
       "      <td>told our parents my bf and i told our parents ...</td>\n",
       "      <td>0</td>\n",
       "      <td>385</td>\n",
       "      <td>told our parents my bf and i told our parents ...</td>\n",
       "      <td>told our parent my bf and i told our parent ab...</td>\n",
       "      <td>0</td>\n",
       "      <td>0</td>\n",
       "    </tr>\n",
       "    <tr>\n",
       "      <th>2</th>\n",
       "      <td>doctor asked me to gain weight - should i get ...</td>\n",
       "      <td>0</td>\n",
       "      <td>171</td>\n",
       "      <td>doctor asked me to gain weight - should i get ...</td>\n",
       "      <td>doctor ask me to gain weight - should i get a ...</td>\n",
       "      <td>1</td>\n",
       "      <td>0</td>\n",
       "    </tr>\n",
       "    <tr>\n",
       "      <th>3</th>\n",
       "      <td>take the stool softeners, &amp;amp; for the love o...</td>\n",
       "      <td>0</td>\n",
       "      <td>197</td>\n",
       "      <td>take the stool softeners , &amp; amp ; for the lov...</td>\n",
       "      <td>take the stool soften , &amp; amp ; for the love o...</td>\n",
       "      <td>0</td>\n",
       "      <td>0</td>\n",
       "    </tr>\n",
       "    <tr>\n",
       "      <th>4</th>\n",
       "      <td>ummm blotches on skin??? i can't be the only o...</td>\n",
       "      <td>0</td>\n",
       "      <td>29</td>\n",
       "      <td>ummm blotches on skin ? ? ? i ca n't be the on...</td>\n",
       "      <td>ummm blotch on skin ? ? ? i ca n't be the onli...</td>\n",
       "      <td>1</td>\n",
       "      <td>0</td>\n",
       "    </tr>\n",
       "  </tbody>\n",
       "</table>\n",
       "</div>"
      ],
      "text/plain": [
       "                                           full_text  beyondbump  word_count  \\\n",
       "0  prenatals without iron!? for the love of god, ...           0          80   \n",
       "1  told our parents my bf and i told our parents ...           0         385   \n",
       "2  doctor asked me to gain weight - should i get ...           0         171   \n",
       "3  take the stool softeners, &amp; for the love o...           0         197   \n",
       "4  ummm blotches on skin??? i can't be the only o...           0          29   \n",
       "\n",
       "                                      tokenized_text  \\\n",
       "0  prenatals without iron ! ? for the love of god...   \n",
       "1  told our parents my bf and i told our parents ...   \n",
       "2  doctor asked me to gain weight - should i get ...   \n",
       "3  take the stool softeners , & amp ; for the lov...   \n",
       "4  ummm blotches on skin ? ? ? i ca n't be the on...   \n",
       "\n",
       "                                        stemmed_text  question_mark  \\\n",
       "0  prenat without iron ! ? for the love of god , ...              1   \n",
       "1  told our parent my bf and i told our parent ab...              0   \n",
       "2  doctor ask me to gain weight - should i get a ...              1   \n",
       "3  take the stool soften , & amp ; for the love o...              0   \n",
       "4  ummm blotch on skin ? ? ? i ca n't be the onli...              1   \n",
       "\n",
       "   something_old  \n",
       "0              0  \n",
       "1              0  \n",
       "2              0  \n",
       "3              0  \n",
       "4              0  "
      ]
     },
     "execution_count": 3,
     "metadata": {},
     "output_type": "execute_result"
    }
   ],
   "source": [
    "df.head()"
   ]
  },
  {
   "cell_type": "code",
   "execution_count": 4,
   "id": "2e57c5ec",
   "metadata": {},
   "outputs": [
    {
     "data": {
      "text/plain": [
       "(3649, 7)"
      ]
     },
     "execution_count": 4,
     "metadata": {},
     "output_type": "execute_result"
    }
   ],
   "source": [
    "df.shape"
   ]
  },
  {
   "cell_type": "markdown",
   "id": "2230e43f",
   "metadata": {},
   "source": [
    "## Baseline Score"
   ]
  },
  {
   "cell_type": "code",
   "execution_count": 5,
   "id": "6ee90846",
   "metadata": {},
   "outputs": [
    {
     "data": {
      "text/plain": [
       "0.5245272677445876"
      ]
     },
     "execution_count": 5,
     "metadata": {},
     "output_type": "execute_result"
    }
   ],
   "source": [
    "# what is our baseline? \n",
    "# we created the data set by choosing 2000 of each\n",
    "# and a few have been deleted\n",
    "1 - df['beyondbump'].mean()"
   ]
  },
  {
   "cell_type": "markdown",
   "id": "4518faa0",
   "metadata": {},
   "source": [
    "## Vectorizing and Setting up for Modeling"
   ]
  },
  {
   "cell_type": "markdown",
   "id": "fb34af36",
   "metadata": {},
   "source": [
    "Through EDA I tokenized and lemmatized my text. After running models on the 'full_text', the tokenized text, and the tokenized and lemmatized text, it turns out lemmatizing did not improve my model. After, I decided to see if stemming (post tokenizing) improved my model. It did (albeit slightly), so I kept the tokenized and stemmed text for my model.  \n",
    "\n",
    "The stop words that we excluded were the variants of the title of each subreddit. The model was built this way so that we might be able to generalize to data scraped from other sources beyond Reddit. "
   ]
  },
  {
   "cell_type": "code",
   "execution_count": 33,
   "id": "246c652f",
   "metadata": {},
   "outputs": [
    {
     "data": {
      "text/plain": [
       "TfidfVectorizer(max_features=200,\n",
       "                stop_words=frozenset({'a', 'about', 'above', 'across', 'after',\n",
       "                                      'afterwards', 'again', 'against', 'all',\n",
       "                                      'almost', 'alone', 'along', 'already',\n",
       "                                      'also', 'although', 'always', 'am',\n",
       "                                      'among', 'amongst', 'amoungst', 'amount',\n",
       "                                      'an', 'and', 'another', 'any', 'anyhow',\n",
       "                                      'anyone', 'anything', 'anyway',\n",
       "                                      'anywhere', ...}),\n",
       "                strip_accents='ascii')"
      ]
     },
     "execution_count": 33,
     "metadata": {},
     "output_type": "execute_result"
    }
   ],
   "source": [
    "# setting up stop words for vectorizing\n",
    "my_stop_words = text.ENGLISH_STOP_WORDS.union(['pregnant', 'pregnancy', 'preggo', 'expecting',\n",
    "                                               'baby', 'bump', 'just'])\n",
    "# vectorizing\n",
    "tvec = TfidfVectorizer(stop_words = my_stop_words, \n",
    "                       strip_accents = 'ascii', \n",
    "                       max_features = 200, \n",
    "                       norm = 'l2')\n",
    "\n",
    "tvec.fit(df['stemmed_text'])\n"
   ]
  },
  {
   "cell_type": "code",
   "execution_count": 34,
   "id": "d3b0a706",
   "metadata": {},
   "outputs": [],
   "source": [
    "# setting up X and y\n",
    "X_tvec = pd.DataFrame(tvec.transform(df['stemmed_text']).todense(), \n",
    "                          columns = tvec.get_feature_names())\n",
    "\n",
    "# include word_count and question_mark as features in my model\n",
    "X_tvec['word_count'] = df['word_count']\n",
    "X_tvec['question_mark'] = df['question_mark']\n",
    "\n",
    "y = df['beyondbump']"
   ]
  },
  {
   "cell_type": "code",
   "execution_count": 35,
   "id": "e9d1ca39",
   "metadata": {},
   "outputs": [
    {
     "data": {
      "text/plain": [
       "0"
      ]
     },
     "execution_count": 35,
     "metadata": {},
     "output_type": "execute_result"
    }
   ],
   "source": [
    "X_tvec.isnull().sum().sum()"
   ]
  },
  {
   "cell_type": "markdown",
   "id": "94589bd8",
   "metadata": {},
   "source": [
    "### Pipelines"
   ]
  },
  {
   "cell_type": "code",
   "execution_count": 36,
   "id": "6388cb87",
   "metadata": {},
   "outputs": [],
   "source": [
    "# need to scale data for knn and logisticregression\n",
    "# use pipeline since we don't need standard scaled data for random forest\n",
    "knn_pipe = Pipeline([\n",
    "    ('ss', StandardScaler()), \n",
    "    ('knn', KNeighborsClassifier())\n",
    "])\n",
    "\n",
    "lr_pipe = Pipeline([\n",
    "    ('ss', StandardScaler()), \n",
    "    ('lr', LogisticRegression())\n",
    "])\n"
   ]
  },
  {
   "cell_type": "markdown",
   "id": "35704ef4",
   "metadata": {},
   "source": [
    "### Models and Scores"
   ]
  },
  {
   "cell_type": "code",
   "execution_count": 1,
   "id": "50323e01",
   "metadata": {},
   "outputs": [
    {
     "ename": "NameError",
     "evalue": "name 'RandomForestClassifier' is not defined",
     "output_type": "error",
     "traceback": [
      "\u001b[0;31m---------------------------------------------------------------------------\u001b[0m",
      "\u001b[0;31mNameError\u001b[0m                                 Traceback (most recent call last)",
      "\u001b[0;32m<ipython-input-1-fbf3378d523b>\u001b[0m in \u001b[0;36m<module>\u001b[0;34m\u001b[0m\n\u001b[1;32m      2\u001b[0m \u001b[0;31m# found these numbers for RF through gridsearch\u001b[0m\u001b[0;34m\u001b[0m\u001b[0;34m\u001b[0m\u001b[0;34m\u001b[0m\u001b[0m\n\u001b[1;32m      3\u001b[0m \u001b[0;34m\u001b[0m\u001b[0m\n\u001b[0;32m----> 4\u001b[0;31m rf = RandomForestClassifier(n_estimators=100, \n\u001b[0m\u001b[1;32m      5\u001b[0m                             \u001b[0mmin_samples_leaf\u001b[0m\u001b[0;34m=\u001b[0m\u001b[0;36m2\u001b[0m\u001b[0;34m,\u001b[0m\u001b[0;34m\u001b[0m\u001b[0;34m\u001b[0m\u001b[0m\n\u001b[1;32m      6\u001b[0m                             max_depth=8)\n",
      "\u001b[0;31mNameError\u001b[0m: name 'RandomForestClassifier' is not defined"
     ]
    }
   ],
   "source": [
    "# instantiating my models\n",
    "# found these numbers for RF through gridsearch\n",
    "\n",
    "rf = RandomForestClassifier(n_estimators=100, \n",
    "                            min_samples_leaf=2, \n",
    "                            max_depth=8)\n",
    "knn = KNeighborsClassifier()\n",
    "lr = LogisticRegression()\n",
    "\n",
    "# creating variables for cross_validate scores\n",
    "rf_scores = cross_validate(rf, X_tvec, y, cv = KFold(n_splits=5, \n",
    "                                                      shuffle=True, \n",
    "                                                      random_state=73),\n",
    "                                                      n_jobs=-1,\n",
    "                                                      return_train_score=True, \n",
    "                                                      return_estimator=True)\n",
    "\n",
    "knn_scores = cross_validate(knn_pipe, X_tvec, y, cv = KFold(n_splits=5, \n",
    "                                                      shuffle=True, \n",
    "                                                      random_state=73), \n",
    "                                                      n_jobs=-1,\n",
    "                                                      return_train_score=True, \n",
    "                                                      return_estimator=True)\n",
    "\n",
    "lr_scores = cross_validate(lr_pipe, X_tvec, y, cv = KFold(n_splits=5, \n",
    "                                                      shuffle=True, \n",
    "                                                      random_state=73),\n",
    "                                                      n_jobs=-1,\n",
    "                                                      return_train_score=True, \n",
    "                                                      return_estimator=True)\n",
    "\n",
    "# saving scores into separate dataframes\n",
    "rf_results = pd.DataFrame(rf_scores)\n",
    "knn_results = pd.DataFrame(knn_scores)\n",
    "lr_results = pd.DataFrame(lr_scores)\n",
    "\n",
    "# used cross validation lecture 2 notes to figure out cross_validate"
   ]
  },
  {
   "cell_type": "markdown",
   "id": "b9b034bd",
   "metadata": {},
   "source": [
    "Random Forest: an ensemble of decision trees, adding additional randomness while growing trees. Unlike the Decision Tree alone, it searches for the best feature among a subset of features.\n",
    "\n",
    "I tried a Random Forest first since it is very easy to measure the relative importance of each feature on the prediction. "
   ]
  },
  {
   "cell_type": "code",
   "execution_count": 38,
   "id": "c8033bdf",
   "metadata": {},
   "outputs": [
    {
     "data": {
      "text/html": [
       "<div>\n",
       "<style scoped>\n",
       "    .dataframe tbody tr th:only-of-type {\n",
       "        vertical-align: middle;\n",
       "    }\n",
       "\n",
       "    .dataframe tbody tr th {\n",
       "        vertical-align: top;\n",
       "    }\n",
       "\n",
       "    .dataframe thead th {\n",
       "        text-align: right;\n",
       "    }\n",
       "</style>\n",
       "<table border=\"1\" class=\"dataframe\">\n",
       "  <thead>\n",
       "    <tr style=\"text-align: right;\">\n",
       "      <th></th>\n",
       "      <th>fit_time</th>\n",
       "      <th>score_time</th>\n",
       "      <th>estimator</th>\n",
       "      <th>test_score</th>\n",
       "      <th>train_score</th>\n",
       "    </tr>\n",
       "  </thead>\n",
       "  <tbody>\n",
       "    <tr>\n",
       "      <th>0</th>\n",
       "      <td>0.548908</td>\n",
       "      <td>0.020505</td>\n",
       "      <td>(DecisionTreeClassifier(max_depth=8, max_featu...</td>\n",
       "      <td>0.783562</td>\n",
       "      <td>0.853374</td>\n",
       "    </tr>\n",
       "    <tr>\n",
       "      <th>1</th>\n",
       "      <td>0.583012</td>\n",
       "      <td>0.021623</td>\n",
       "      <td>(DecisionTreeClassifier(max_depth=8, max_featu...</td>\n",
       "      <td>0.798630</td>\n",
       "      <td>0.848236</td>\n",
       "    </tr>\n",
       "    <tr>\n",
       "      <th>2</th>\n",
       "      <td>0.528928</td>\n",
       "      <td>0.023676</td>\n",
       "      <td>(DecisionTreeClassifier(max_depth=8, max_featu...</td>\n",
       "      <td>0.826027</td>\n",
       "      <td>0.845838</td>\n",
       "    </tr>\n",
       "    <tr>\n",
       "      <th>3</th>\n",
       "      <td>0.549399</td>\n",
       "      <td>0.017282</td>\n",
       "      <td>(DecisionTreeClassifier(max_depth=8, max_featu...</td>\n",
       "      <td>0.793151</td>\n",
       "      <td>0.842412</td>\n",
       "    </tr>\n",
       "    <tr>\n",
       "      <th>4</th>\n",
       "      <td>0.548643</td>\n",
       "      <td>0.015393</td>\n",
       "      <td>(DecisionTreeClassifier(max_depth=8, max_featu...</td>\n",
       "      <td>0.812071</td>\n",
       "      <td>0.848630</td>\n",
       "    </tr>\n",
       "  </tbody>\n",
       "</table>\n",
       "</div>"
      ],
      "text/plain": [
       "   fit_time  score_time                                          estimator  \\\n",
       "0  0.548908    0.020505  (DecisionTreeClassifier(max_depth=8, max_featu...   \n",
       "1  0.583012    0.021623  (DecisionTreeClassifier(max_depth=8, max_featu...   \n",
       "2  0.528928    0.023676  (DecisionTreeClassifier(max_depth=8, max_featu...   \n",
       "3  0.549399    0.017282  (DecisionTreeClassifier(max_depth=8, max_featu...   \n",
       "4  0.548643    0.015393  (DecisionTreeClassifier(max_depth=8, max_featu...   \n",
       "\n",
       "   test_score  train_score  \n",
       "0    0.783562     0.853374  \n",
       "1    0.798630     0.848236  \n",
       "2    0.826027     0.845838  \n",
       "3    0.793151     0.842412  \n",
       "4    0.812071     0.848630  "
      ]
     },
     "execution_count": 38,
     "metadata": {},
     "output_type": "execute_result"
    }
   ],
   "source": [
    "rf_results"
   ]
  },
  {
   "cell_type": "code",
   "execution_count": 39,
   "id": "0ba91e1c",
   "metadata": {},
   "outputs": [
    {
     "data": {
      "text/plain": [
       "(0.8, 0.85)"
      ]
     },
     "execution_count": 39,
     "metadata": {},
     "output_type": "execute_result"
    }
   ],
   "source": [
    "# comparing train and test cross validate scores\n",
    "# model is overfit (as happens a lot with trees)\n",
    "round(rf_results['test_score'].mean(), 2), round(rf_results['train_score'].mean(), 2)"
   ]
  },
  {
   "cell_type": "code",
   "execution_count": 40,
   "id": "e55bd71d",
   "metadata": {},
   "outputs": [
    {
     "name": "stdout",
     "output_type": "stream",
     "text": [
      "0.8 ± 0.03\n"
     ]
    }
   ],
   "source": [
    "# including confidence interval for random forest (from test scores)\n",
    "print(f'{round(rf_results.test_score.mean(), 2)} ± {round(2 * rf_results.test_score.std(), 2)}')"
   ]
  },
  {
   "cell_type": "markdown",
   "id": "e93267fd",
   "metadata": {},
   "source": [
    "KNearestNeighbors: Commonly used for its ease of interpretation and low calculation time. \n",
    "In our case, it drastically overfit the model. This would not be a good model to use because of the high variance of the model. "
   ]
  },
  {
   "cell_type": "code",
   "execution_count": 41,
   "id": "d5b0718c",
   "metadata": {},
   "outputs": [
    {
     "data": {
      "text/html": [
       "<div>\n",
       "<style scoped>\n",
       "    .dataframe tbody tr th:only-of-type {\n",
       "        vertical-align: middle;\n",
       "    }\n",
       "\n",
       "    .dataframe tbody tr th {\n",
       "        vertical-align: top;\n",
       "    }\n",
       "\n",
       "    .dataframe thead th {\n",
       "        text-align: right;\n",
       "    }\n",
       "</style>\n",
       "<table border=\"1\" class=\"dataframe\">\n",
       "  <thead>\n",
       "    <tr style=\"text-align: right;\">\n",
       "      <th></th>\n",
       "      <th>fit_time</th>\n",
       "      <th>score_time</th>\n",
       "      <th>estimator</th>\n",
       "      <th>test_score</th>\n",
       "      <th>train_score</th>\n",
       "    </tr>\n",
       "  </thead>\n",
       "  <tbody>\n",
       "    <tr>\n",
       "      <th>0</th>\n",
       "      <td>0.026579</td>\n",
       "      <td>0.088045</td>\n",
       "      <td>(StandardScaler(), KNeighborsClassifier())</td>\n",
       "      <td>0.691781</td>\n",
       "      <td>0.823570</td>\n",
       "    </tr>\n",
       "    <tr>\n",
       "      <th>1</th>\n",
       "      <td>0.043513</td>\n",
       "      <td>0.159789</td>\n",
       "      <td>(StandardScaler(), KNeighborsClassifier())</td>\n",
       "      <td>0.738356</td>\n",
       "      <td>0.807811</td>\n",
       "    </tr>\n",
       "    <tr>\n",
       "      <th>2</th>\n",
       "      <td>0.026337</td>\n",
       "      <td>0.087717</td>\n",
       "      <td>(StandardScaler(), KNeighborsClassifier())</td>\n",
       "      <td>0.713699</td>\n",
       "      <td>0.813635</td>\n",
       "    </tr>\n",
       "    <tr>\n",
       "      <th>3</th>\n",
       "      <td>0.043006</td>\n",
       "      <td>0.165164</td>\n",
       "      <td>(StandardScaler(), KNeighborsClassifier())</td>\n",
       "      <td>0.709589</td>\n",
       "      <td>0.810552</td>\n",
       "    </tr>\n",
       "    <tr>\n",
       "      <th>4</th>\n",
       "      <td>0.038937</td>\n",
       "      <td>0.171629</td>\n",
       "      <td>(StandardScaler(), KNeighborsClassifier())</td>\n",
       "      <td>0.680384</td>\n",
       "      <td>0.805822</td>\n",
       "    </tr>\n",
       "  </tbody>\n",
       "</table>\n",
       "</div>"
      ],
      "text/plain": [
       "   fit_time  score_time                                   estimator  \\\n",
       "0  0.026579    0.088045  (StandardScaler(), KNeighborsClassifier())   \n",
       "1  0.043513    0.159789  (StandardScaler(), KNeighborsClassifier())   \n",
       "2  0.026337    0.087717  (StandardScaler(), KNeighborsClassifier())   \n",
       "3  0.043006    0.165164  (StandardScaler(), KNeighborsClassifier())   \n",
       "4  0.038937    0.171629  (StandardScaler(), KNeighborsClassifier())   \n",
       "\n",
       "   test_score  train_score  \n",
       "0    0.691781     0.823570  \n",
       "1    0.738356     0.807811  \n",
       "2    0.713699     0.813635  \n",
       "3    0.709589     0.810552  \n",
       "4    0.680384     0.805822  "
      ]
     },
     "execution_count": 41,
     "metadata": {},
     "output_type": "execute_result"
    }
   ],
   "source": [
    "knn_results\n",
    "# no need to look compare train and test since the model is so drastically overfit\n",
    "# we can easily see it from the dataframe"
   ]
  },
  {
   "cell_type": "markdown",
   "id": "c5ced3b7",
   "metadata": {},
   "source": [
    "Logistic Regression models the probability of the positive class. \n",
    "\n",
    "The beta coefficients can be more difficult to interpret than the coefficients of Random Forest."
   ]
  },
  {
   "cell_type": "code",
   "execution_count": 42,
   "id": "fa23489b",
   "metadata": {},
   "outputs": [
    {
     "data": {
      "text/html": [
       "<div>\n",
       "<style scoped>\n",
       "    .dataframe tbody tr th:only-of-type {\n",
       "        vertical-align: middle;\n",
       "    }\n",
       "\n",
       "    .dataframe tbody tr th {\n",
       "        vertical-align: top;\n",
       "    }\n",
       "\n",
       "    .dataframe thead th {\n",
       "        text-align: right;\n",
       "    }\n",
       "</style>\n",
       "<table border=\"1\" class=\"dataframe\">\n",
       "  <thead>\n",
       "    <tr style=\"text-align: right;\">\n",
       "      <th></th>\n",
       "      <th>fit_time</th>\n",
       "      <th>score_time</th>\n",
       "      <th>estimator</th>\n",
       "      <th>test_score</th>\n",
       "      <th>train_score</th>\n",
       "    </tr>\n",
       "  </thead>\n",
       "  <tbody>\n",
       "    <tr>\n",
       "      <th>0</th>\n",
       "      <td>0.105713</td>\n",
       "      <td>0.008470</td>\n",
       "      <td>(StandardScaler(), LogisticRegression())</td>\n",
       "      <td>0.801370</td>\n",
       "      <td>0.845495</td>\n",
       "    </tr>\n",
       "    <tr>\n",
       "      <th>1</th>\n",
       "      <td>0.101171</td>\n",
       "      <td>0.006363</td>\n",
       "      <td>(StandardScaler(), LogisticRegression())</td>\n",
       "      <td>0.794521</td>\n",
       "      <td>0.842412</td>\n",
       "    </tr>\n",
       "    <tr>\n",
       "      <th>2</th>\n",
       "      <td>0.095817</td>\n",
       "      <td>0.007499</td>\n",
       "      <td>(StandardScaler(), LogisticRegression())</td>\n",
       "      <td>0.815068</td>\n",
       "      <td>0.836588</td>\n",
       "    </tr>\n",
       "    <tr>\n",
       "      <th>3</th>\n",
       "      <td>0.096756</td>\n",
       "      <td>0.006486</td>\n",
       "      <td>(StandardScaler(), LogisticRegression())</td>\n",
       "      <td>0.779452</td>\n",
       "      <td>0.848578</td>\n",
       "    </tr>\n",
       "    <tr>\n",
       "      <th>4</th>\n",
       "      <td>0.044672</td>\n",
       "      <td>0.004197</td>\n",
       "      <td>(StandardScaler(), LogisticRegression())</td>\n",
       "      <td>0.791495</td>\n",
       "      <td>0.841781</td>\n",
       "    </tr>\n",
       "  </tbody>\n",
       "</table>\n",
       "</div>"
      ],
      "text/plain": [
       "   fit_time  score_time                                 estimator  test_score  \\\n",
       "0  0.105713    0.008470  (StandardScaler(), LogisticRegression())    0.801370   \n",
       "1  0.101171    0.006363  (StandardScaler(), LogisticRegression())    0.794521   \n",
       "2  0.095817    0.007499  (StandardScaler(), LogisticRegression())    0.815068   \n",
       "3  0.096756    0.006486  (StandardScaler(), LogisticRegression())    0.779452   \n",
       "4  0.044672    0.004197  (StandardScaler(), LogisticRegression())    0.791495   \n",
       "\n",
       "   train_score  \n",
       "0     0.845495  \n",
       "1     0.842412  \n",
       "2     0.836588  \n",
       "3     0.848578  \n",
       "4     0.841781  "
      ]
     },
     "execution_count": 42,
     "metadata": {},
     "output_type": "execute_result"
    }
   ],
   "source": [
    "lr_results"
   ]
  },
  {
   "cell_type": "code",
   "execution_count": 43,
   "id": "6ca45c01",
   "metadata": {},
   "outputs": [
    {
     "data": {
      "text/plain": [
       "(0.8, 0.84)"
      ]
     },
     "execution_count": 43,
     "metadata": {},
     "output_type": "execute_result"
    }
   ],
   "source": [
    "# comparing train and test cross validate scores\n",
    "round(lr_results['test_score'].mean(), 2), round(lr_results['train_score'].mean(), 2)\n",
    "# this model is exactly as overfit as Random Forest, though accuracy in the test data \n",
    "# is 1% lower"
   ]
  },
  {
   "cell_type": "code",
   "execution_count": 44,
   "id": "69d78161",
   "metadata": {},
   "outputs": [
    {
     "name": "stdout",
     "output_type": "stream",
     "text": [
      "0.8 ± 0.03\n"
     ]
    }
   ],
   "source": [
    "# including confidence interval\n",
    "print(f'{round(lr_results.test_score.mean(), 2)} ± {round(2 * lr_results.test_score.std(), 2)}')"
   ]
  },
  {
   "cell_type": "code",
   "execution_count": 283,
   "id": "da36e716",
   "metadata": {},
   "outputs": [
    {
     "name": "stdout",
     "output_type": "stream",
     "text": [
      "0.810352331022042\n"
     ]
    },
    {
     "data": {
      "text/plain": [
       "{'grad_boost__n_estimators': 100,\n",
       " 'knn_pipe__knn__n_neighbors': 5,\n",
       " 'weights': [0.2, 0.3, 0.2, 0.3]}"
      ]
     },
     "execution_count": 283,
     "metadata": {},
     "output_type": "execute_result"
    }
   ],
   "source": [
    "# ensembling \n",
    "\n",
    "vote = VotingClassifier([\n",
    "    ('forest', RandomForestClassifier(n_estimators=100, \n",
    "                            min_samples_leaf=2, \n",
    "                            max_depth=8)),\n",
    "    ('grad_boost', GradientBoostingClassifier()),\n",
    "    ('knn_pipe', knn_pipe), \n",
    "    ('lr_pipe', lr_pipe)\n",
    "])\n",
    "\n",
    "params = {\n",
    "    'grad_boost__n_estimators': [75, 100],\n",
    "    'knn_pipe__knn__n_neighbors': [4, 5, 6],\n",
    "    'weights': [[0.25, 0.25, 0.25, 0.25], [0.2, 0.3, 0.2, 0.3]]\n",
    "}\n",
    "\n",
    "gs = GridSearchCV(vote, param_grid=params)\n",
    "gs.fit(X_tvec, y)\n",
    "print(gs.best_score_)\n",
    "gs.best_params_\n"
   ]
  },
  {
   "cell_type": "code",
   "execution_count": 284,
   "id": "ce316ea7",
   "metadata": {},
   "outputs": [],
   "source": [
    "# Voting Classifier with best params - doing cross validate\n",
    "knn_pipe = Pipeline([\n",
    "    ('ss', StandardScaler()), \n",
    "    ('knn', KNeighborsClassifier(n_neighbors=5))\n",
    "])\n",
    "\n",
    "lr_pipe = Pipeline([\n",
    "    ('ss', StandardScaler()), \n",
    "    ('lr', LogisticRegression())\n",
    "])\n",
    "\n",
    "\n",
    "vote = VotingClassifier([\n",
    "    ('forest', RandomForestClassifier(n_estimators=100, \n",
    "                            min_samples_leaf=2, \n",
    "                            max_depth=8)),\n",
    "    ('grad_boost', GradientBoostingClassifier(n_estimators=100)),\n",
    "    ('knn_pipe', knn_pipe), \n",
    "    ('lr_pipe', lr_pipe), \n",
    "])\n",
    "\n",
    "# cross_val for voting classifier\n",
    "vote_scores = cross_validate(vote, X_tvec, y, cv = KFold(n_splits=5, \n",
    "                                                      shuffle=True, \n",
    "                                                      random_state=73),\n",
    "                                                      n_jobs=-1,\n",
    "                                                      return_train_score=True, \n",
    "                                                      return_estimator=True)\n"
   ]
  },
  {
   "cell_type": "code",
   "execution_count": 285,
   "id": "86c81a05",
   "metadata": {},
   "outputs": [],
   "source": [
    "vote_results = pd.DataFrame(vote_scores)"
   ]
  },
  {
   "cell_type": "markdown",
   "id": "cbd7792a",
   "metadata": {},
   "source": [
    "Voting Classifier is a way to ensemble different models. That said, it is a black box method, so the results would not be easily interpretable. Also, the model has more variance than both Random Forest and Logistic Regression."
   ]
  },
  {
   "cell_type": "code",
   "execution_count": 286,
   "id": "faad4085",
   "metadata": {},
   "outputs": [
    {
     "data": {
      "text/html": [
       "<div>\n",
       "<style scoped>\n",
       "    .dataframe tbody tr th:only-of-type {\n",
       "        vertical-align: middle;\n",
       "    }\n",
       "\n",
       "    .dataframe tbody tr th {\n",
       "        vertical-align: top;\n",
       "    }\n",
       "\n",
       "    .dataframe thead th {\n",
       "        text-align: right;\n",
       "    }\n",
       "</style>\n",
       "<table border=\"1\" class=\"dataframe\">\n",
       "  <thead>\n",
       "    <tr style=\"text-align: right;\">\n",
       "      <th></th>\n",
       "      <th>fit_time</th>\n",
       "      <th>score_time</th>\n",
       "      <th>estimator</th>\n",
       "      <th>test_score</th>\n",
       "      <th>train_score</th>\n",
       "    </tr>\n",
       "  </thead>\n",
       "  <tbody>\n",
       "    <tr>\n",
       "      <th>0</th>\n",
       "      <td>2.995077</td>\n",
       "      <td>0.106910</td>\n",
       "      <td>VotingClassifier(estimators=[('forest',\\n     ...</td>\n",
       "      <td>0.795890</td>\n",
       "      <td>0.866393</td>\n",
       "    </tr>\n",
       "    <tr>\n",
       "      <th>1</th>\n",
       "      <td>2.966659</td>\n",
       "      <td>0.131131</td>\n",
       "      <td>VotingClassifier(estimators=[('forest',\\n     ...</td>\n",
       "      <td>0.797260</td>\n",
       "      <td>0.867078</td>\n",
       "    </tr>\n",
       "    <tr>\n",
       "      <th>2</th>\n",
       "      <td>3.006069</td>\n",
       "      <td>0.134365</td>\n",
       "      <td>VotingClassifier(estimators=[('forest',\\n     ...</td>\n",
       "      <td>0.823288</td>\n",
       "      <td>0.862282</td>\n",
       "    </tr>\n",
       "    <tr>\n",
       "      <th>3</th>\n",
       "      <td>2.989351</td>\n",
       "      <td>0.158571</td>\n",
       "      <td>VotingClassifier(estimators=[('forest',\\n     ...</td>\n",
       "      <td>0.808219</td>\n",
       "      <td>0.868106</td>\n",
       "    </tr>\n",
       "    <tr>\n",
       "      <th>4</th>\n",
       "      <td>3.027783</td>\n",
       "      <td>0.140302</td>\n",
       "      <td>VotingClassifier(estimators=[('forest',\\n     ...</td>\n",
       "      <td>0.803841</td>\n",
       "      <td>0.865068</td>\n",
       "    </tr>\n",
       "  </tbody>\n",
       "</table>\n",
       "</div>"
      ],
      "text/plain": [
       "   fit_time  score_time                                          estimator  \\\n",
       "0  2.995077    0.106910  VotingClassifier(estimators=[('forest',\\n     ...   \n",
       "1  2.966659    0.131131  VotingClassifier(estimators=[('forest',\\n     ...   \n",
       "2  3.006069    0.134365  VotingClassifier(estimators=[('forest',\\n     ...   \n",
       "3  2.989351    0.158571  VotingClassifier(estimators=[('forest',\\n     ...   \n",
       "4  3.027783    0.140302  VotingClassifier(estimators=[('forest',\\n     ...   \n",
       "\n",
       "   test_score  train_score  \n",
       "0    0.795890     0.866393  \n",
       "1    0.797260     0.867078  \n",
       "2    0.823288     0.862282  \n",
       "3    0.808219     0.868106  \n",
       "4    0.803841     0.865068  "
      ]
     },
     "execution_count": 286,
     "metadata": {},
     "output_type": "execute_result"
    }
   ],
   "source": [
    "vote_results"
   ]
  },
  {
   "cell_type": "code",
   "execution_count": 20,
   "id": "9ad6b33f",
   "metadata": {},
   "outputs": [
    {
     "ename": "NameError",
     "evalue": "name 'vote_results' is not defined",
     "output_type": "error",
     "traceback": [
      "\u001b[0;31m---------------------------------------------------------------------------\u001b[0m",
      "\u001b[0;31mNameError\u001b[0m                                 Traceback (most recent call last)",
      "\u001b[0;32m<ipython-input-20-6f8fae09ae2d>\u001b[0m in \u001b[0;36m<module>\u001b[0;34m\u001b[0m\n\u001b[1;32m      1\u001b[0m \u001b[0;31m# comparing train and test cross validate scores\u001b[0m\u001b[0;34m\u001b[0m\u001b[0;34m\u001b[0m\u001b[0;34m\u001b[0m\u001b[0m\n\u001b[0;32m----> 2\u001b[0;31m \u001b[0mround\u001b[0m\u001b[0;34m(\u001b[0m\u001b[0mvote_results\u001b[0m\u001b[0;34m[\u001b[0m\u001b[0;34m'test_score'\u001b[0m\u001b[0;34m]\u001b[0m\u001b[0;34m.\u001b[0m\u001b[0mmean\u001b[0m\u001b[0;34m(\u001b[0m\u001b[0;34m)\u001b[0m\u001b[0;34m,\u001b[0m \u001b[0;36m2\u001b[0m\u001b[0;34m)\u001b[0m\u001b[0;34m,\u001b[0m \u001b[0mround\u001b[0m\u001b[0;34m(\u001b[0m\u001b[0mvote_results\u001b[0m\u001b[0;34m[\u001b[0m\u001b[0;34m'train_score'\u001b[0m\u001b[0;34m]\u001b[0m\u001b[0;34m.\u001b[0m\u001b[0mmean\u001b[0m\u001b[0;34m(\u001b[0m\u001b[0;34m)\u001b[0m\u001b[0;34m,\u001b[0m \u001b[0;36m2\u001b[0m\u001b[0;34m)\u001b[0m\u001b[0;34m\u001b[0m\u001b[0;34m\u001b[0m\u001b[0m\n\u001b[0m\u001b[1;32m      3\u001b[0m \u001b[0;31m# more overfit than the Random Forest and Logistic Regression models\u001b[0m\u001b[0;34m\u001b[0m\u001b[0;34m\u001b[0m\u001b[0;34m\u001b[0m\u001b[0m\n",
      "\u001b[0;31mNameError\u001b[0m: name 'vote_results' is not defined"
     ]
    }
   ],
   "source": [
    "# comparing train and test cross validate scores\n",
    "round(vote_results['test_score'].mean(), 2), round(vote_results['train_score'].mean(), 2)\n",
    "# more overfit than the Random Forest and Logistic Regression models"
   ]
  },
  {
   "cell_type": "code",
   "execution_count": 288,
   "id": "04869b64",
   "metadata": {},
   "outputs": [
    {
     "name": "stdout",
     "output_type": "stream",
     "text": [
      "0.81 ± 0.02\n"
     ]
    }
   ],
   "source": [
    "print(f'{round(vote_results.test_score.mean(), 2)} ± {round(2 * vote_results.test_score.std(), 2)}')"
   ]
  },
  {
   "cell_type": "markdown",
   "id": "2040460c",
   "metadata": {},
   "source": [
    "# Visualizations"
   ]
  },
  {
   "cell_type": "markdown",
   "id": "305736f6",
   "metadata": {},
   "source": [
    "## Confusion Matrix"
   ]
  },
  {
   "cell_type": "markdown",
   "id": "f8bc9766",
   "metadata": {},
   "source": [
    "Taking one of the 5 train/test sets from our Random Forest Model and looking at confusion matrix to see if I can improve the model. "
   ]
  },
  {
   "cell_type": "code",
   "execution_count": 22,
   "id": "42b83b5e",
   "metadata": {},
   "outputs": [],
   "source": [
    "rf_preds = rf_scores.get('estimator')[1].predict(X_tvec)"
   ]
  },
  {
   "cell_type": "code",
   "execution_count": 23,
   "id": "7d6c9fb2",
   "metadata": {},
   "outputs": [
    {
     "data": {
      "text/plain": [
       "array([[1804,  110],\n",
       "       [ 482, 1253]])"
      ]
     },
     "execution_count": 23,
     "metadata": {},
     "output_type": "execute_result"
    }
   ],
   "source": [
    "metrics.confusion_matrix(y, rf_preds)"
   ]
  },
  {
   "cell_type": "code",
   "execution_count": 24,
   "id": "abf923d7",
   "metadata": {},
   "outputs": [
    {
     "data": {
      "text/html": [
       "<div>\n",
       "<style scoped>\n",
       "    .dataframe tbody tr th:only-of-type {\n",
       "        vertical-align: middle;\n",
       "    }\n",
       "\n",
       "    .dataframe tbody tr th {\n",
       "        vertical-align: top;\n",
       "    }\n",
       "\n",
       "    .dataframe thead th {\n",
       "        text-align: right;\n",
       "    }\n",
       "</style>\n",
       "<table border=\"1\" class=\"dataframe\">\n",
       "  <thead>\n",
       "    <tr style=\"text-align: right;\">\n",
       "      <th></th>\n",
       "      <th>Beyondthebump</th>\n",
       "      <th>Pregnant</th>\n",
       "    </tr>\n",
       "  </thead>\n",
       "  <tbody>\n",
       "    <tr>\n",
       "      <th>Beyondthebump</th>\n",
       "      <td>1804</td>\n",
       "      <td>110</td>\n",
       "    </tr>\n",
       "    <tr>\n",
       "      <th>Pregnant</th>\n",
       "      <td>482</td>\n",
       "      <td>1253</td>\n",
       "    </tr>\n",
       "  </tbody>\n",
       "</table>\n",
       "</div>"
      ],
      "text/plain": [
       "               Beyondthebump  Pregnant\n",
       "Beyondthebump           1804       110\n",
       "Pregnant                 482      1253"
      ]
     },
     "execution_count": 24,
     "metadata": {},
     "output_type": "execute_result"
    }
   ],
   "source": [
    "confusion_matrix_df = pd.DataFrame(metrics.confusion_matrix(y, rf_preds))\n",
    "confusion_matrix_df.rename(columns = {0:'Beyondthebump', 1: 'Pregnant'}, inplace = True)\n",
    "confusion_matrix_df.rename(index = {0:'Beyondthebump', 1: 'Pregnant'}, inplace = True)\n",
    "confusion_matrix_df"
   ]
  },
  {
   "cell_type": "code",
   "execution_count": 25,
   "id": "472f2f85",
   "metadata": {},
   "outputs": [
    {
     "data": {
      "image/png": "[encoded data removed]",
      "text/plain": [
       "<Figure size 576x432 with 2 Axes>"
      ]
     },
     "metadata": {
      "needs_background": "light"
     },
     "output_type": "display_data"
    }
   ],
   "source": [
    "\n",
    "plt.figure(figsize=(8, 6))\n",
    "\n",
    "# create heatmap\n",
    "sns.heatmap(pd.DataFrame(confusion_matrix_df), annot=True, cmap='Blues', fmt='g')\n",
    "\n",
    "plt.title('Confusion Matrix', y=1.1)\n",
    "plt.ylabel('Actual label')\n",
    "plt.xlabel('Predicted label');\n",
    "\n",
    "# Vivek helped me with this code - I edited"
   ]
  },
  {
   "cell_type": "markdown",
   "id": "2186fae1",
   "metadata": {},
   "source": [
    "Figure above: confusion matrix - helping to dig into the false positive and false negatives. "
   ]
  },
  {
   "cell_type": "code",
   "execution_count": 29,
   "id": "07ea9455",
   "metadata": {},
   "outputs": [],
   "source": [
    "index_list = X_tvec[(rf_preds == 1) & (y != rf_preds)].index\n",
    "# digging into the false positives (as a way to improve our model)\n",
    "# posts that were predicted as 'r/beyondthebump' but were really 'r/pregnant'"
   ]
  },
  {
   "cell_type": "code",
   "execution_count": 30,
   "id": "f6bf8c57",
   "metadata": {},
   "outputs": [],
   "source": [
    "rows = df.iloc[index_list, :]"
   ]
  },
  {
   "cell_type": "code",
   "execution_count": 32,
   "id": "6783dffe",
   "metadata": {},
   "outputs": [
    {
     "data": {
      "text/plain": [
       "25      does age make a difference in men? hello ladie...\n",
       "41      virtigo i'm 6 months today and yesterday i sta...\n",
       "53      when did you start wearing maternity clothes? ...\n",
       "55      day 1 home and feeding troubles it’s 5:30am an...\n",
       "66      scared me and my bf use condoms all the times ...\n",
       "                              ...                        \n",
       "1799    my son thinks his grandma is his mom. my son i...\n",
       "1839    was watching unexpected with my partner last n...\n",
       "1871    diaper bag due nov 6 with baby girl! i have. 2...\n",
       "1885    pre-natals hi!! i have heard many times from s...\n",
       "1888    i'm a ftm and we get to find out the sexy of o...\n",
       "Name: full_text, Length: 110, dtype: object"
      ]
     },
     "execution_count": 32,
     "metadata": {},
     "output_type": "execute_result"
    }
   ],
   "source": [
    "rows.full_text"
   ]
  },
  {
   "cell_type": "markdown",
   "id": "0926e998",
   "metadata": {},
   "source": [
    "If this were a longer project, I would begin to analyze these posts and also the false negatives and see what commonalities exist between them to fine tune my classification model. "
   ]
  },
  {
   "cell_type": "markdown",
   "id": "7f4ea3ed",
   "metadata": {},
   "source": [
    "## Top Features"
   ]
  },
  {
   "cell_type": "code",
   "execution_count": 294,
   "id": "5fe27271",
   "metadata": {},
   "outputs": [],
   "source": [
    "# getting features and importances\n",
    "features = list(X_tvec.columns)\n",
    "importances = list(rf_scores.get('estimator')[1].feature_importances_)\n",
    "\n",
    "# zipping them together\n",
    "features_w_importances = list(zip(importances, features))\n",
    "\n",
    "# create a dataframe and get top 15 features\n",
    "top_15_features = pd.DataFrame(sorted(features_w_importances, reverse=True))[:15]\n",
    "\n",
    "# renaming columns\n",
    "top_15_features.rename(columns={0:'relative_importance' , 1:'feature'}, inplace=True)\n",
    "\n",
    "# Andrea helped me with this code"
   ]
  },
  {
   "cell_type": "code",
   "execution_count": 295,
   "id": "48b2fbd5",
   "metadata": {},
   "outputs": [
    {
     "data": {
      "image/png": "[encoded data removed]",
      "text/plain": [
       "<Figure size 576x576 with 1 Axes>"
      ]
     },
     "metadata": {
      "needs_background": "light"
     },
     "output_type": "display_data"
    }
   ],
   "source": [
    "# graph top 15 features\n",
    "plt.figure(figsize = (8, 8))\n",
    "sns.barplot(x = top_15_features['feature'], y = top_15_features['relative_importance'], color = 'slateblue')\n",
    "plt.xlabel('Relative Importance', fontsize = 12, fontweight = 'bold')\n",
    "plt.ylabel('Features', fontsize = 12, fontweight = 'bold')\n",
    "plt.xticks(rotation = 45)\n",
    "plt.title('Top 15 Best Features for the Random Forest Model', fontsize = 16, fontweight = 'bold');"
   ]
  },
  {
   "cell_type": "markdown",
   "id": "aadd2d60",
   "metadata": {},
   "source": [
    "Bar graph above: the top words in relation to our model are shown."
   ]
  },
  {
   "cell_type": "markdown",
   "id": "58dc824d",
   "metadata": {},
   "source": [
    "The default method to compute variable importance is the mean decrease in impurity (or gini importance) mechanism: At each split in each tree, the improvement in the split-criterion is the importance measure attributed to the splitting variable, and is accumulated over all the trees in the forest separately for each variable. Note that this measure is quite like the \\(R^2\\) in regression on the training set. ([Source](#https://blog.hwr-berlin.de/codeandstats/variable-importance-in-random-forests/))\n",
    "\n",
    "The measure shown above is based on the decrease of Gini impurity when a variable is chosen to split a node. ([Source](#https://www.displayr.com/how-is-variable-importance-calculated-for-a-random-forest/))"
   ]
  },
  {
   "cell_type": "code",
   "execution_count": 299,
   "id": "72e4b6e9",
   "metadata": {},
   "outputs": [
    {
     "name": "stdout",
     "output_type": "stream",
     "text": [
      "Sensitivity: 0.73\n",
      "Precision: 0.92\n"
     ]
    }
   ],
   "source": [
    "# other metrics besides accuracy (which is my original metric from above)\n",
    "print('Sensitivity:', round(metrics.recall_score(y, rf_preds), 2))\n",
    "print('Precision:', round(metrics.precision_score(y, rf_preds), 2))"
   ]
  },
  {
   "cell_type": "markdown",
   "id": "6119626a",
   "metadata": {},
   "source": [
    "**Sensitivity:** We were around 73% accurate when predicting those in the BeyondtheBump subreddit.\n",
    "\n",
    "**Precision:** Of all the posts we predicted to be in the BeyondtheBump subreddit, we were correct 92% of the time. \n"
   ]
  },
  {
   "cell_type": "markdown",
   "id": "b9a12fde",
   "metadata": {},
   "source": [
    "## Conclusions"
   ]
  },
  {
   "cell_type": "markdown",
   "id": "d2c1f20b",
   "metadata": {},
   "source": [
    "After evaluating all the models, the one that I chose for our purposes was the Random Forest model. Through cross validation, I found that we are 95% certain that our model will be 78% - 82% accurate at predicting between the pregnancy subreddit and the beyondthebump subreddit. Though the mean accuracy of the chosen model is one percent below that of the Voting Classifier model, the Random Forest is easier to interpret and also takes less time to run. Random Forest also had lower variance than the Voting Classifer model. \n",
    "\n",
    "Given that the desire is to be able to generalize our model across other blogs, posting sites, and social media in order to create marketing campaigns we should be aware of the limitations of this model. The posts that were scraped from Reddit were relatively text heavy (mean around 140 words per post). If we were interested in pulling data from a site that limits post length, the model may not generalize well. \n",
    "\n",
    "Moving forward, I propose a continuing project on identifying the types of products that parents post about. Furthermore, we can begin to identify at what age range parents begin to wonder about specific products. Using this information, the marketing team would be able to more successfully target their campaigns for when parents need specific items for their children. \n"
   ]
  },
  {
   "cell_type": "code",
   "execution_count": null,
   "id": "1bb14b02",
   "metadata": {},
   "outputs": [],
   "source": []
  }
 ],
 "metadata": {
  "kernelspec": {
   "display_name": "Python 3",
   "language": "python",
   "name": "python3"
  },
  "language_info": {
   "codemirror_mode": {
    "name": "ipython",
    "version": 3
   },
   "file_extension": ".py",
   "mimetype": "text/x-python",
   "name": "python",
   "nbconvert_exporter": "python",
   "pygments_lexer": "ipython3",
   "version": "3.8.8"
  }
 },
 "nbformat": 4,
 "nbformat_minor": 5
}
