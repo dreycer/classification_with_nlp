{
 "cells": [
  {
   "cell_type": "markdown",
   "id": "6a9ded8e",
   "metadata": {},
   "source": [
    "# EDA Notebook - Subreddit Data\n",
    "\n",
    "- [Reading in the Data](#Reading-in-the-Data)\n",
    "- [Cleaning](#Cleaning)\n",
    "- [Feature Engineering](#Feature-Engineering)\n",
    "-- [Word Count](#Word-Count)\n",
    "-- [Tokenizing, Stemming, and Vectorizing](#Tokenizing,-Stemming,-and-Vectorizing)\n",
    "-- [Most Common Words](#Most-Common-Words)\n",
    "-- [Bigrams](#Bigrams)\n",
    "-- [Question Marks](#Question-Marks)\n",
    "-- [Bigram Columns](#Bigram-Columns)\n",
    "- [Exporting Data to CSV](#Exporting-Data-to-CSV)"
   ]
  },
  {
   "cell_type": "code",
   "execution_count": 1,
   "id": "f5eaf772",
   "metadata": {},
   "outputs": [],
   "source": [
    "import matplotlib.pyplot as plt\n",
    "import pandas as pd\n",
    "import seaborn as sns\n",
    "import numpy as np\n",
    "\n",
    "from sklearn.feature_extraction import text\n",
    "from sklearn.feature_extraction.text import TfidfVectorizer\n",
    "\n",
    "pd.options.display.max_colwidth = 400\n",
    "\n",
    "import nltk\n",
    "from nltk.stem.porter import *\n",
    "from  nltk.stem import PorterStemmer, WordNetLemmatizer\n",
    "from nltk.tokenize import word_tokenize\n",
    "\n",
    "import spacy\n",
    "\n",
    "import warnings\n",
    "warnings.simplefilter(action='ignore', category=FutureWarning)"
   ]
  },
  {
   "cell_type": "markdown",
   "id": "4aab7bdb",
   "metadata": {},
   "source": [
    "## Reading in the Data"
   ]
  },
  {
   "cell_type": "code",
   "execution_count": 2,
   "id": "723844ec",
   "metadata": {},
   "outputs": [],
   "source": [
    "pregnant = pd.read_csv('../data/pregnant.csv')\n",
    "beyondbump = pd.read_csv('../data/beyondbump.csv')"
   ]
  },
  {
   "cell_type": "markdown",
   "id": "31015a53",
   "metadata": {},
   "source": [
    "## Cleaning"
   ]
  },
  {
   "cell_type": "code",
   "execution_count": 3,
   "id": "c059997f",
   "metadata": {},
   "outputs": [],
   "source": [
    "# putting the two dataframes into one\n",
    "\n",
    "df = pd.concat([pregnant, beyondbump], ignore_index=True)"
   ]
  },
  {
   "cell_type": "code",
   "execution_count": 4,
   "id": "3b3dd1e0",
   "metadata": {},
   "outputs": [],
   "source": [
    "# dropping the unnamed column\n",
    "df.drop(columns='Unnamed: 0', inplace=True)"
   ]
  },
  {
   "cell_type": "code",
   "execution_count": 5,
   "id": "6dffb79a",
   "metadata": {},
   "outputs": [],
   "source": [
    "# replace \\n in 'selftext'\n",
    "# replace '&amp' with 'and'\n",
    "\n",
    "df['selftext'] = df['selftext'].str.replace('\\n', '')\n",
    "df['selftext'] = df['selftext'].str.replace('&amp', 'and')"
   ]
  },
  {
   "cell_type": "code",
   "execution_count": 6,
   "id": "1ae61674",
   "metadata": {},
   "outputs": [
    {
     "data": {
      "text/plain": [
       "223"
      ]
     },
     "execution_count": 6,
     "metadata": {},
     "output_type": "execute_result"
    }
   ],
   "source": [
    "# checking for nulls in selftext\n",
    "df.selftext.isnull().sum()"
   ]
  },
  {
   "cell_type": "code",
   "execution_count": 7,
   "id": "ddc350fb",
   "metadata": {},
   "outputs": [
    {
     "data": {
      "text/plain": [
       "title          0\n",
       "selftext     223\n",
       "subreddit      0\n",
       "dtype: int64"
      ]
     },
     "execution_count": 7,
     "metadata": {},
     "output_type": "execute_result"
    }
   ],
   "source": [
    "df.isnull().sum()"
   ]
  },
  {
   "cell_type": "code",
   "execution_count": 8,
   "id": "ba479963",
   "metadata": {},
   "outputs": [],
   "source": [
    "# dropped null rows, as we are concerned with text-heavy posts\n",
    "df.dropna(inplace=True)"
   ]
  },
  {
   "cell_type": "code",
   "execution_count": 9,
   "id": "dbde2c82",
   "metadata": {},
   "outputs": [
    {
     "data": {
      "text/plain": [
       "title        0\n",
       "selftext     0\n",
       "subreddit    0\n",
       "dtype: int64"
      ]
     },
     "execution_count": 9,
     "metadata": {},
     "output_type": "execute_result"
    }
   ],
   "source": [
    "df.isnull().sum()"
   ]
  },
  {
   "cell_type": "code",
   "execution_count": 10,
   "id": "31777d06",
   "metadata": {},
   "outputs": [
    {
     "data": {
      "text/plain": [
       "(3777, 3)"
      ]
     },
     "execution_count": 10,
     "metadata": {},
     "output_type": "execute_result"
    }
   ],
   "source": [
    "df.shape"
   ]
  },
  {
   "cell_type": "code",
   "execution_count": 11,
   "id": "e3cf57cc",
   "metadata": {},
   "outputs": [],
   "source": [
    "# combining title and self text into one column\n",
    "df['full_text'] = df['title'] + ' ' + df['selftext']"
   ]
  },
  {
   "cell_type": "code",
   "execution_count": 12,
   "id": "305e0d77",
   "metadata": {},
   "outputs": [],
   "source": [
    "df.drop(columns=['title', 'selftext'], inplace=True)"
   ]
  },
  {
   "cell_type": "code",
   "execution_count": 13,
   "id": "29770924",
   "metadata": {},
   "outputs": [],
   "source": [
    "# cleaning the text and removing funky characters\n",
    "# got this code from nlp lecture notes\n",
    "\n",
    "df['full_text'] = [re.sub('[\\(\\[].*?[\\)\\]]', '', t.replace('\\n', '')) for t in df['full_text']]\n",
    "\n",
    "df['full_text'] = [t.replace('/\\\\', ' ').replace(':-)', ' ').replace('tdb> ', ' ') \n",
    "              for t in df['full_text']]\n",
    "\n",
    "df['full_text'] = [t.replace('=', ' ').replace('--', ' ').replace('_', ' ')\\\n",
    "              .replace('}', ' ').replace('*', ' ').replace('^', ' ')\\\n",
    "              .replace('~', ' ')\n",
    "              for t in df['full_text']]\n",
    "\n",
    "df['full_text'] = [t.replace('- < > -', ' ').replace('|', ' ').replace('*-', ' ') \n",
    "              for t in df['full_text']]\n",
    "\n",
    "df['full_text'] = [t.replace('...', ' ').replace('\\t', ' ').lower().strip() \n",
    "              for t in df['full_text']]"
   ]
  },
  {
   "cell_type": "code",
   "execution_count": 14,
   "id": "cb6c2ad5",
   "metadata": {},
   "outputs": [],
   "source": [
    "# turning my target column into binary - \n",
    "# choosing 'beyondbump' as positive class\n",
    "\n",
    "df['beyondbump'] = df['subreddit'].map({'pregnant': 0, 'beyondthebump': 1})\n",
    "df.drop(columns='subreddit', inplace=True)"
   ]
  },
  {
   "cell_type": "markdown",
   "id": "33c7ae83",
   "metadata": {},
   "source": [
    "## Feature Engineering"
   ]
  },
  {
   "cell_type": "markdown",
   "id": "be7491e7",
   "metadata": {},
   "source": [
    "### Word Count"
   ]
  },
  {
   "cell_type": "code",
   "execution_count": 15,
   "id": "7bcef491",
   "metadata": {},
   "outputs": [],
   "source": [
    "# creating a word count column to use as a feature later\n",
    "df['word_count'] = [len(df['full_text'][i].split(' ')) for i in df.index]"
   ]
  },
  {
   "cell_type": "code",
   "execution_count": 16,
   "id": "b71a406c",
   "metadata": {},
   "outputs": [
    {
     "data": {
      "text/html": [
       "<div>\n",
       "<style scoped>\n",
       "    .dataframe tbody tr th:only-of-type {\n",
       "        vertical-align: middle;\n",
       "    }\n",
       "\n",
       "    .dataframe tbody tr th {\n",
       "        vertical-align: top;\n",
       "    }\n",
       "\n",
       "    .dataframe thead th {\n",
       "        text-align: right;\n",
       "    }\n",
       "</style>\n",
       "<table border=\"1\" class=\"dataframe\">\n",
       "  <thead>\n",
       "    <tr style=\"text-align: right;\">\n",
       "      <th></th>\n",
       "      <th>full_text</th>\n",
       "      <th>beyondbump</th>\n",
       "      <th>word_count</th>\n",
       "    </tr>\n",
       "  </thead>\n",
       "  <tbody>\n",
       "    <tr>\n",
       "      <th>0</th>\n",
       "      <td>prenatals without iron!? for the love of god, can someone please recommend prenatals without iron?? this has been so difficult. no, i do not want the prenatals from my ob’s office. i have been taking these gummies without iron for the last 12/13 weeks and i’m over them. the taste is killing me. i started on some new prenatals that cost a small fortune, but they have iron  and are already makin...</td>\n",
       "      <td>0</td>\n",
       "      <td>80</td>\n",
       "    </tr>\n",
       "    <tr>\n",
       "      <th>1</th>\n",
       "      <td>told our parents my bf and i told our parents about us expecting yesterday. all went great with my mom, she supports us both and offered us a place to stay if we wanted to live there for a while. asked for our plans and was excited for her 7th grandbaby, didn’t pressure us to get married or anything. we explained we actually wanted to have some control over that atleast, and she offered to hel...</td>\n",
       "      <td>0</td>\n",
       "      <td>385</td>\n",
       "    </tr>\n",
       "    <tr>\n",
       "      <th>2</th>\n",
       "      <td>doctor asked me to gain weight - should i get a second opinion? went to my ob today and she was concerned with my weight. i was under the impression that all the weight gain would happened during the third trimester. i just entered my second trimester, so i haven’t been actively trying to eat more. she was concerned that i lost 6 pounds due to morning sickness during my first trimester, puttin...</td>\n",
       "      <td>0</td>\n",
       "      <td>171</td>\n",
       "    </tr>\n",
       "    <tr>\n",
       "      <th>3</th>\n",
       "      <td>take the stool softeners, &amp;amp; for the love of god drink your water i’m 4 weeks pp and was very fortunate to have an easy birth. i was induced and two hours, and; 6 pushes later my son was born. i had a vaginal birth and only suffered a small tear from my son trying to come out with his hand on his face. needless to say i was terrified to poop after birth. between avoiding the toilet and; foc...</td>\n",
       "      <td>0</td>\n",
       "      <td>197</td>\n",
       "    </tr>\n",
       "    <tr>\n",
       "      <th>4</th>\n",
       "      <td>ummm blotches on skin??? i can't be the only one!! i'm having like dark spots all over my body mostly in my chest area..and my arm!! what is this??</td>\n",
       "      <td>0</td>\n",
       "      <td>29</td>\n",
       "    </tr>\n",
       "  </tbody>\n",
       "</table>\n",
       "</div>"
      ],
      "text/plain": [
       "                                                                                                                                                                                                                                                                                                                                                                                                         full_text  \\\n",
       "0  prenatals without iron!? for the love of god, can someone please recommend prenatals without iron?? this has been so difficult. no, i do not want the prenatals from my ob’s office. i have been taking these gummies without iron for the last 12/13 weeks and i’m over them. the taste is killing me. i started on some new prenatals that cost a small fortune, but they have iron  and are already makin...   \n",
       "1  told our parents my bf and i told our parents about us expecting yesterday. all went great with my mom, she supports us both and offered us a place to stay if we wanted to live there for a while. asked for our plans and was excited for her 7th grandbaby, didn’t pressure us to get married or anything. we explained we actually wanted to have some control over that atleast, and she offered to hel...   \n",
       "2  doctor asked me to gain weight - should i get a second opinion? went to my ob today and she was concerned with my weight. i was under the impression that all the weight gain would happened during the third trimester. i just entered my second trimester, so i haven’t been actively trying to eat more. she was concerned that i lost 6 pounds due to morning sickness during my first trimester, puttin...   \n",
       "3  take the stool softeners, &amp; for the love of god drink your water i’m 4 weeks pp and was very fortunate to have an easy birth. i was induced and two hours, and; 6 pushes later my son was born. i had a vaginal birth and only suffered a small tear from my son trying to come out with his hand on his face. needless to say i was terrified to poop after birth. between avoiding the toilet and; foc...   \n",
       "4                                                                                                                                                                                                                                                              ummm blotches on skin??? i can't be the only one!! i'm having like dark spots all over my body mostly in my chest area..and my arm!! what is this??   \n",
       "\n",
       "   beyondbump  word_count  \n",
       "0           0          80  \n",
       "1           0         385  \n",
       "2           0         171  \n",
       "3           0         197  \n",
       "4           0          29  "
      ]
     },
     "execution_count": 16,
     "metadata": {},
     "output_type": "execute_result"
    }
   ],
   "source": [
    "df.head()"
   ]
  },
  {
   "cell_type": "code",
   "execution_count": 17,
   "id": "d6b4a6cc",
   "metadata": {},
   "outputs": [
    {
     "data": {
      "image/png": "[encoded data removed]",
      "text/plain": [
       "<Figure size 432x288 with 1 Axes>"
      ]
     },
     "metadata": {
      "needs_background": "light"
     },
     "output_type": "display_data"
    }
   ],
   "source": [
    "word_count_mean = df['word_count'].mean()\n",
    "word_count_median = df['word_count'].median()\n",
    "# print(word_count_mean)\n",
    "\n",
    "sns.distplot(df['word_count'])\n",
    "plt.title('Distribution of Word Count in all Posts')\n",
    "plt.axvline(x=word_count_mean, color='indigo', label='Mean')\n",
    "plt.axvline(x=word_count_median, color = 'orange', label='Median')\n",
    "plt.legend();"
   ]
  },
  {
   "cell_type": "markdown",
   "id": "84be8e76",
   "metadata": {},
   "source": [
    "Figure above: modeling distribution of word count in the entire dataset. "
   ]
  },
  {
   "cell_type": "code",
   "execution_count": 18,
   "id": "fe1278b8",
   "metadata": {},
   "outputs": [],
   "source": [
    "# creating dataframes for each target category to do EDA\n",
    "preg_df = df[df['beyondbump'] == 0]\n",
    "btb_df = df[df['beyondbump'] == 1]"
   ]
  },
  {
   "cell_type": "code",
   "execution_count": 19,
   "id": "c2a4576b",
   "metadata": {},
   "outputs": [
    {
     "data": {
      "text/html": [
       "<div>\n",
       "<style scoped>\n",
       "    .dataframe tbody tr th:only-of-type {\n",
       "        vertical-align: middle;\n",
       "    }\n",
       "\n",
       "    .dataframe tbody tr th {\n",
       "        vertical-align: top;\n",
       "    }\n",
       "\n",
       "    .dataframe thead th {\n",
       "        text-align: right;\n",
       "    }\n",
       "</style>\n",
       "<table border=\"1\" class=\"dataframe\">\n",
       "  <thead>\n",
       "    <tr style=\"text-align: right;\">\n",
       "      <th></th>\n",
       "      <th>beyondbump</th>\n",
       "      <th>word_count</th>\n",
       "    </tr>\n",
       "  </thead>\n",
       "  <tbody>\n",
       "    <tr>\n",
       "      <th>count</th>\n",
       "      <td>1997.0</td>\n",
       "      <td>1997.000000</td>\n",
       "    </tr>\n",
       "    <tr>\n",
       "      <th>mean</th>\n",
       "      <td>0.0</td>\n",
       "      <td>145.014522</td>\n",
       "    </tr>\n",
       "    <tr>\n",
       "      <th>std</th>\n",
       "      <td>0.0</td>\n",
       "      <td>159.161588</td>\n",
       "    </tr>\n",
       "    <tr>\n",
       "      <th>min</th>\n",
       "      <td>0.0</td>\n",
       "      <td>1.000000</td>\n",
       "    </tr>\n",
       "    <tr>\n",
       "      <th>25%</th>\n",
       "      <td>0.0</td>\n",
       "      <td>60.000000</td>\n",
       "    </tr>\n",
       "    <tr>\n",
       "      <th>50%</th>\n",
       "      <td>0.0</td>\n",
       "      <td>103.000000</td>\n",
       "    </tr>\n",
       "    <tr>\n",
       "      <th>75%</th>\n",
       "      <td>0.0</td>\n",
       "      <td>171.000000</td>\n",
       "    </tr>\n",
       "    <tr>\n",
       "      <th>max</th>\n",
       "      <td>0.0</td>\n",
       "      <td>1986.000000</td>\n",
       "    </tr>\n",
       "  </tbody>\n",
       "</table>\n",
       "</div>"
      ],
      "text/plain": [
       "       beyondbump   word_count\n",
       "count      1997.0  1997.000000\n",
       "mean          0.0   145.014522\n",
       "std           0.0   159.161588\n",
       "min           0.0     1.000000\n",
       "25%           0.0    60.000000\n",
       "50%           0.0   103.000000\n",
       "75%           0.0   171.000000\n",
       "max           0.0  1986.000000"
      ]
     },
     "execution_count": 19,
     "metadata": {},
     "output_type": "execute_result"
    }
   ],
   "source": [
    "# examining word count of each subreddit - considering dropping short posts without any real text\n",
    "preg_df.describe()"
   ]
  },
  {
   "cell_type": "code",
   "execution_count": 20,
   "id": "502b6693",
   "metadata": {},
   "outputs": [
    {
     "data": {
      "text/html": [
       "<div>\n",
       "<style scoped>\n",
       "    .dataframe tbody tr th:only-of-type {\n",
       "        vertical-align: middle;\n",
       "    }\n",
       "\n",
       "    .dataframe tbody tr th {\n",
       "        vertical-align: top;\n",
       "    }\n",
       "\n",
       "    .dataframe thead th {\n",
       "        text-align: right;\n",
       "    }\n",
       "</style>\n",
       "<table border=\"1\" class=\"dataframe\">\n",
       "  <thead>\n",
       "    <tr style=\"text-align: right;\">\n",
       "      <th></th>\n",
       "      <th>beyondbump</th>\n",
       "      <th>word_count</th>\n",
       "    </tr>\n",
       "  </thead>\n",
       "  <tbody>\n",
       "    <tr>\n",
       "      <th>count</th>\n",
       "      <td>1780.0</td>\n",
       "      <td>1780.000000</td>\n",
       "    </tr>\n",
       "    <tr>\n",
       "      <th>mean</th>\n",
       "      <td>1.0</td>\n",
       "      <td>152.267416</td>\n",
       "    </tr>\n",
       "    <tr>\n",
       "      <th>std</th>\n",
       "      <td>0.0</td>\n",
       "      <td>137.699118</td>\n",
       "    </tr>\n",
       "    <tr>\n",
       "      <th>min</th>\n",
       "      <td>1.0</td>\n",
       "      <td>1.000000</td>\n",
       "    </tr>\n",
       "    <tr>\n",
       "      <th>25%</th>\n",
       "      <td>1.0</td>\n",
       "      <td>72.000000</td>\n",
       "    </tr>\n",
       "    <tr>\n",
       "      <th>50%</th>\n",
       "      <td>1.0</td>\n",
       "      <td>116.000000</td>\n",
       "    </tr>\n",
       "    <tr>\n",
       "      <th>75%</th>\n",
       "      <td>1.0</td>\n",
       "      <td>185.250000</td>\n",
       "    </tr>\n",
       "    <tr>\n",
       "      <th>max</th>\n",
       "      <td>1.0</td>\n",
       "      <td>1694.000000</td>\n",
       "    </tr>\n",
       "  </tbody>\n",
       "</table>\n",
       "</div>"
      ],
      "text/plain": [
       "       beyondbump   word_count\n",
       "count      1780.0  1780.000000\n",
       "mean          1.0   152.267416\n",
       "std           0.0   137.699118\n",
       "min           1.0     1.000000\n",
       "25%           1.0    72.000000\n",
       "50%           1.0   116.000000\n",
       "75%           1.0   185.250000\n",
       "max           1.0  1694.000000"
      ]
     },
     "execution_count": 20,
     "metadata": {},
     "output_type": "execute_result"
    }
   ],
   "source": [
    "btb_df.describe()"
   ]
  },
  {
   "cell_type": "code",
   "execution_count": 21,
   "id": "cb713b4f",
   "metadata": {},
   "outputs": [
    {
     "data": {
      "image/png": "[encoded data removed]",
      "text/plain": [
       "<Figure size 576x432 with 1 Axes>"
      ]
     },
     "metadata": {
      "needs_background": "light"
     },
     "output_type": "display_data"
    }
   ],
   "source": [
    "# examining plots together to see if there is a difference in post word count for each target\n",
    "# no real difference visually\n",
    "\n",
    "plt.figure(figsize=(8, 6))\n",
    "\n",
    "sns.distplot(preg_df['word_count'], label='Pregnant')\n",
    "sns.distplot(btb_df['word_count'], label=\"Beyond the Bump\")\n",
    "plt.title('Word Count by Subreddit')\n",
    "plt.legend();"
   ]
  },
  {
   "cell_type": "markdown",
   "id": "90f09bf5",
   "metadata": {},
   "source": [
    "Figure above: investigating word count differentiated between the two subreddits. As can be seen, there is no easily discernable difference. "
   ]
  },
  {
   "cell_type": "markdown",
   "id": "a8db9b69",
   "metadata": {},
   "source": [
    "Since we focused on Reddit data for our classification model, I chose to delete posts that had fewer than 20 words. The reason for this is because those posts are often titles with pictures or memes. For our uses, we cared more about the text-heavy posts. "
   ]
  },
  {
   "cell_type": "code",
   "execution_count": 22,
   "id": "eafd30fe",
   "metadata": {},
   "outputs": [],
   "source": [
    "# deleting posts with < 20 words\n",
    "df = df[df['word_count'] > 20]"
   ]
  },
  {
   "cell_type": "markdown",
   "id": "454f4a73",
   "metadata": {},
   "source": [
    "## Tokenizing, Stemming, and Vectorizing"
   ]
  },
  {
   "cell_type": "markdown",
   "id": "f74f9bb8",
   "metadata": {},
   "source": [
    "I tokenized my text here, which ultimately improved my model slightly. That said, lemmatizing did not improve my model, so I chose to remove it and try stemming instead, which improved my model slightly over using just the 'full_text' or tokenized text."
   ]
  },
  {
   "cell_type": "code",
   "execution_count": 23,
   "id": "3b18437c",
   "metadata": {},
   "outputs": [],
   "source": [
    "# tokenizing\n",
    "df['tokenized_text'] = df['full_text'].apply(word_tokenize)\n",
    "df['tokenized_text'] = [' '.join(text) for text in df['tokenized_text']]"
   ]
  },
  {
   "cell_type": "code",
   "execution_count": 1,
   "id": "1b33c0f7",
   "metadata": {},
   "outputs": [
    {
     "ename": "NameError",
     "evalue": "name 'PorterStemmer' is not defined",
     "output_type": "error",
     "traceback": [
      "\u001b[0;31m---------------------------------------------------------------------------\u001b[0m",
      "\u001b[0;31mNameError\u001b[0m                                 Traceback (most recent call last)",
      "\u001b[0;32m<ipython-input-1-6f220e4cd693>\u001b[0m in \u001b[0;36m<module>\u001b[0;34m\u001b[0m\n\u001b[1;32m      1\u001b[0m \u001b[0;31m# stemming\u001b[0m\u001b[0;34m\u001b[0m\u001b[0;34m\u001b[0m\u001b[0;34m\u001b[0m\u001b[0m\n\u001b[1;32m      2\u001b[0m \u001b[0;31m# used Sophie's walkthrough code here\u001b[0m\u001b[0;34m\u001b[0m\u001b[0;34m\u001b[0m\u001b[0;34m\u001b[0m\u001b[0m\n\u001b[0;32m----> 3\u001b[0;31m \u001b[0mstemmer\u001b[0m \u001b[0;34m=\u001b[0m \u001b[0mPorterStemmer\u001b[0m\u001b[0;34m(\u001b[0m\u001b[0;34m)\u001b[0m\u001b[0;34m\u001b[0m\u001b[0;34m\u001b[0m\u001b[0m\n\u001b[0m\u001b[1;32m      4\u001b[0m \u001b[0mdf\u001b[0m\u001b[0;34m[\u001b[0m\u001b[0;34m'stemmed_text'\u001b[0m\u001b[0;34m]\u001b[0m \u001b[0;34m=\u001b[0m \u001b[0mdf\u001b[0m\u001b[0;34m.\u001b[0m\u001b[0mtokenized_text\u001b[0m\u001b[0;34m.\u001b[0m\u001b[0mapply\u001b[0m\u001b[0;34m(\u001b[0m\u001b[0;32mlambda\u001b[0m \u001b[0mx\u001b[0m\u001b[0;34m:\u001b[0m \u001b[0;34m' '\u001b[0m\u001b[0;34m.\u001b[0m\u001b[0mjoin\u001b[0m\u001b[0;34m(\u001b[0m\u001b[0;34m[\u001b[0m\u001b[0mstemmer\u001b[0m\u001b[0;34m.\u001b[0m\u001b[0mstem\u001b[0m\u001b[0;34m(\u001b[0m\u001b[0mw\u001b[0m\u001b[0;34m)\u001b[0m \u001b[0;32mfor\u001b[0m \u001b[0mw\u001b[0m \u001b[0;32min\u001b[0m \u001b[0mword_tokenize\u001b[0m\u001b[0;34m(\u001b[0m\u001b[0mx\u001b[0m\u001b[0;34m)\u001b[0m\u001b[0;34m]\u001b[0m\u001b[0;34m)\u001b[0m\u001b[0;34m)\u001b[0m\u001b[0;34m\u001b[0m\u001b[0;34m\u001b[0m\u001b[0m\n",
      "\u001b[0;31mNameError\u001b[0m: name 'PorterStemmer' is not defined"
     ]
    }
   ],
   "source": [
    "# stemming\n",
    "# used Sophie's walkthrough code here\n",
    "stemmer = PorterStemmer()\n",
    "df['stemmed_text'] = df.tokenized_text.apply(lambda x: ' '.join([stemmer.stem(w) for w in word_tokenize(x)]))"
   ]
  },
  {
   "cell_type": "code",
   "execution_count": 25,
   "id": "813b5cd6",
   "metadata": {},
   "outputs": [],
   "source": [
    "# created a custom list of stop words including 'english stop words' \n",
    "# so I wasn't including 'giveaway' words\n",
    "my_stop_words = text.ENGLISH_STOP_WORDS.union(['pregnant', 'pregnancy', 'preggo', 'expecting',\n",
    "                                               'baby', 'bump', 'just'])"
   ]
  },
  {
   "cell_type": "code",
   "execution_count": 26,
   "id": "f591b1e4",
   "metadata": {},
   "outputs": [
    {
     "data": {
      "text/plain": [
       "TfidfVectorizer(max_features=500,\n",
       "                stop_words=frozenset({'a', 'about', 'above', 'across', 'after',\n",
       "                                      'afterwards', 'again', 'against', 'all',\n",
       "                                      'almost', 'alone', 'along', 'already',\n",
       "                                      'also', 'although', 'always', 'am',\n",
       "                                      'among', 'amongst', 'amoungst', 'amount',\n",
       "                                      'an', 'and', 'another', 'any', 'anyhow',\n",
       "                                      'anyone', 'anything', 'anyway',\n",
       "                                      'anywhere', ...}),\n",
       "                strip_accents='ascii')"
      ]
     },
     "execution_count": 26,
     "metadata": {},
     "output_type": "execute_result"
    }
   ],
   "source": [
    "# initialized a tfidf transformer\n",
    "tvec = TfidfVectorizer(stop_words = my_stop_words, \n",
    "                       strip_accents = 'ascii', \n",
    "                       max_features = 500, \n",
    "                       norm = 'l2') \n",
    "\n",
    "# fit to the stemmed text\n",
    "tvec.fit(df['full_text'])\n"
   ]
  },
  {
   "cell_type": "code",
   "execution_count": 27,
   "id": "4f4e0a7f",
   "metadata": {},
   "outputs": [],
   "source": [
    "# create a dataframe from our vectorized text\n",
    "tvec = pd.DataFrame(tvec.transform(df['full_text']).todense(), \n",
    "                       columns = tvec.get_feature_names())"
   ]
  },
  {
   "cell_type": "markdown",
   "id": "a297d4f3",
   "metadata": {},
   "source": [
    "### Most Common Words"
   ]
  },
  {
   "cell_type": "code",
   "execution_count": 28,
   "id": "e3b6fac6",
   "metadata": {},
   "outputs": [],
   "source": [
    "# show 25 most common words in entire dataframe\n",
    "\n",
    "words = []\n",
    "counts = []\n",
    "for col in tvec.columns: \n",
    "    words.append(col)\n",
    "    counts.append(tvec[col].sum())\n",
    "    \n",
    "list_of_word_freq = list(zip(words, counts))\n",
    "list_of_word_freq.sort(key=lambda x:x[1], reverse=True)"
   ]
  },
  {
   "cell_type": "code",
   "execution_count": 29,
   "id": "8302535f",
   "metadata": {},
   "outputs": [
    {
     "data": {
      "text/plain": [
       "[('im', 238.72753633950745),\n",
       " ('like', 175.89633594386413),\n",
       " ('weeks', 155.346989498838),\n",
       " ('feel', 139.0615462326719),\n",
       " ('time', 136.58786397325542),\n",
       " ('know', 125.7651253061437),\n",
       " ('want', 111.64599580706434),\n",
       " ('day', 105.95064532731062),\n",
       " ('sleep', 104.87407866143703),\n",
       " ('did', 104.81968511783106),\n",
       " ('dont', 103.49970958649342),\n",
       " ('old', 102.42683564189721),\n",
       " ('really', 98.0077500594488),\n",
       " ('week', 95.91897591231296),\n",
       " ('going', 89.36828524547565),\n",
       " ('help', 88.97015753561172),\n",
       " ('husband', 86.59975252831796),\n",
       " ('ive', 85.77322668374822),\n",
       " ('months', 84.013468879557),\n",
       " ('days', 81.51442443199237),\n",
       " ('work', 81.170102820764),\n",
       " ('having', 78.69092727110034),\n",
       " ('little', 78.57967586966555),\n",
       " ('getting', 78.2619579966711),\n",
       " ('month', 78.06369353539266)]"
      ]
     },
     "execution_count": 29,
     "metadata": {},
     "output_type": "execute_result"
    }
   ],
   "source": [
    "top_25 = list_of_word_freq[:25]\n",
    "top_25"
   ]
  },
  {
   "cell_type": "code",
   "execution_count": 30,
   "id": "d7c435f2",
   "metadata": {},
   "outputs": [],
   "source": [
    "# put the vectorized dataframe together with the original so I could analyze \n",
    "df_tvec = pd.concat([df, tvec], axis=1, join='outer')"
   ]
  },
  {
   "cell_type": "code",
   "execution_count": 31,
   "id": "7d71ecad",
   "metadata": {},
   "outputs": [],
   "source": [
    "preg_df = df_tvec[df_tvec['beyondbump'] == 0]\n",
    "btb_df = df_tvec[df_tvec['beyondbump'] == 1]"
   ]
  },
  {
   "cell_type": "code",
   "execution_count": 32,
   "id": "1ccd10d7",
   "metadata": {},
   "outputs": [],
   "source": [
    "# show 15 most common words in pregnant subreddit\n",
    "\n",
    "words = []\n",
    "counts = []\n",
    "for col in tvec.columns: \n",
    "    words.append(col)\n",
    "    counts.append(preg_df[col].sum())\n",
    "    \n",
    "preg_list_of_word_freq = list(zip(words, counts))\n",
    "preg_list_of_word_freq.sort(key=lambda x:x[1], reverse=True)"
   ]
  },
  {
   "cell_type": "code",
   "execution_count": 33,
   "id": "7b915599",
   "metadata": {},
   "outputs": [
    {
     "data": {
      "text/plain": [
       "[('im', 153.16509843507703),\n",
       " ('weeks', 110.58405509179104),\n",
       " ('like', 88.48565229387947),\n",
       " ('feel', 78.7112644065684),\n",
       " ('know', 69.00816393011019),\n",
       " ('time', 61.95715168789376),\n",
       " ('want', 61.47612689373563),\n",
       " ('did', 59.10637156924035),\n",
       " ('dont', 57.562018601284024),\n",
       " ('ive', 55.00634520178292),\n",
       " ('really', 52.83208230143314),\n",
       " ('week', 52.219618640863615),\n",
       " ('today', 48.8190380888312),\n",
       " ('pain', 48.66266096429578),\n",
       " ('days', 48.54097764234825)]"
      ]
     },
     "execution_count": 33,
     "metadata": {},
     "output_type": "execute_result"
    }
   ],
   "source": [
    "preg_list_of_word_freq[:15]"
   ]
  },
  {
   "cell_type": "code",
   "execution_count": 34,
   "id": "9774ce31",
   "metadata": {},
   "outputs": [],
   "source": [
    "# show 15 most common words in beyondthebump subreddit\n",
    "\n",
    "words = []\n",
    "counts = []\n",
    "for col in tvec.columns: \n",
    "    words.append(col)\n",
    "    counts.append(btb_df[col].sum())\n",
    "    \n",
    "btb_list_of_word_freq = list(zip(words, counts))\n",
    "btb_list_of_word_freq.sort(key=lambda x:x[1], reverse=True)"
   ]
  },
  {
   "cell_type": "code",
   "execution_count": 35,
   "id": "746e9276",
   "metadata": {},
   "outputs": [
    {
     "data": {
      "text/plain": [
       "[('old', 77.23423984065106),\n",
       " ('like', 71.73275749185389),\n",
       " ('sleep', 69.57091163689933),\n",
       " ('im', 66.40319460831208),\n",
       " ('time', 61.93460175763019),\n",
       " ('months', 54.16832078035941),\n",
       " ('month', 52.526754389123134),\n",
       " ('feel', 49.491589308521895),\n",
       " ('day', 48.26200310652373),\n",
       " ('know', 45.385915311155955),\n",
       " ('night', 44.60643410272061),\n",
       " ('want', 42.2266328380298),\n",
       " ('help', 40.98542195139062),\n",
       " ('did', 38.3845619830761),\n",
       " ('week', 37.668916172412324)]"
      ]
     },
     "execution_count": 35,
     "metadata": {},
     "output_type": "execute_result"
    }
   ],
   "source": [
    "btb_list_of_word_freq[:15]"
   ]
  },
  {
   "cell_type": "code",
   "execution_count": 36,
   "id": "841a7771",
   "metadata": {},
   "outputs": [],
   "source": [
    "preg_bar = pd.DataFrame(preg_list_of_word_freq[:15])\n",
    "btb_bar = pd.DataFrame(btb_list_of_word_freq[:15])"
   ]
  },
  {
   "cell_type": "code",
   "execution_count": 37,
   "id": "9aa3b2f9",
   "metadata": {},
   "outputs": [
    {
     "data": {
      "image/png": "[encoded data removed]",
      "text/plain": [
       "<Figure size 720x288 with 1 Axes>"
      ]
     },
     "metadata": {
      "needs_background": "light"
     },
     "output_type": "display_data"
    }
   ],
   "source": [
    "plt.figure(figsize=(10, 4))\n",
    "plt.bar(preg_bar[0], preg_bar[1], color='purple')\n",
    "\n",
    "plt.xticks(rotation = 45)\n",
    "plt.title('Frequency of Top 15 Words for Pregnant Subreddit', size = 16)\n",
    "plt.xlabel('top 15 words')\n",
    "plt.ylabel('frequency'); "
   ]
  },
  {
   "cell_type": "markdown",
   "id": "832fba27",
   "metadata": {},
   "source": [
    "Figure above: bar graph of the top 15 words in the Pregnant subreddit."
   ]
  },
  {
   "cell_type": "code",
   "execution_count": 38,
   "id": "369a23e3",
   "metadata": {},
   "outputs": [
    {
     "data": {
      "image/png": "[encoded data removed]",
      "text/plain": [
       "<Figure size 720x288 with 1 Axes>"
      ]
     },
     "metadata": {
      "needs_background": "light"
     },
     "output_type": "display_data"
    }
   ],
   "source": [
    "plt.figure(figsize=(10, 4))\n",
    "plt.bar(btb_bar[0], btb_bar[1], color='indigo')\n",
    "\n",
    "plt.xticks(rotation = 45)\n",
    "plt.title('Frequency of Top 15 Words for Beyondthebump Subreddit', size = 16)\n",
    "plt.xlabel('top 15 words')\n",
    "plt.ylabel('frequency'); "
   ]
  },
  {
   "cell_type": "markdown",
   "id": "1e6f0a95",
   "metadata": {},
   "source": [
    "Figure above: bar graph of the top 15 words in the Beyondthebump subreddit."
   ]
  },
  {
   "cell_type": "code",
   "execution_count": 39,
   "id": "76c6f8ba",
   "metadata": {},
   "outputs": [
    {
     "data": {
      "text/plain": [
       "['want', 'feel', 'did', 'time', 'week', 'im', 'like', 'know']"
      ]
     },
     "execution_count": 39,
     "metadata": {},
     "output_type": "execute_result"
    }
   ],
   "source": [
    "# overlap in top 15 words\n",
    "list(set(list(btb_bar[0])) & set(list(preg_bar[0])))"
   ]
  },
  {
   "cell_type": "markdown",
   "id": "13a6e789",
   "metadata": {},
   "source": [
    "### Bigrams"
   ]
  },
  {
   "cell_type": "markdown",
   "id": "af66740d",
   "metadata": {},
   "source": [
    "I investigated bigrams, to see if including a few of them could help my model. "
   ]
  },
  {
   "cell_type": "code",
   "execution_count": 40,
   "id": "486f39f9",
   "metadata": {},
   "outputs": [
    {
     "data": {
      "text/plain": [
       "TfidfVectorizer(max_features=500, ngram_range=(2, 2),\n",
       "                stop_words=frozenset({'a', 'about', 'above', 'across', 'after',\n",
       "                                      'afterwards', 'again', 'against', 'all',\n",
       "                                      'almost', 'alone', 'along', 'already',\n",
       "                                      'also', 'although', 'always', 'am',\n",
       "                                      'among', 'amongst', 'amoungst', 'amount',\n",
       "                                      'an', 'and', 'another', 'any', 'anyhow',\n",
       "                                      'anyone', 'anything', 'anyway',\n",
       "                                      'anywhere', ...}),\n",
       "                strip_accents='ascii')"
      ]
     },
     "execution_count": 40,
     "metadata": {},
     "output_type": "execute_result"
    }
   ],
   "source": [
    "tvec2 = TfidfVectorizer(stop_words = my_stop_words, \n",
    "                       strip_accents = 'ascii', \n",
    "                       max_features = 500, \n",
    "                       norm = 'l2', \n",
    "                       ngram_range=(2, 2)) \n",
    "tvec2.fit(df['tokenized_text'])"
   ]
  },
  {
   "cell_type": "code",
   "execution_count": 41,
   "id": "17bdd352",
   "metadata": {},
   "outputs": [],
   "source": [
    "tvec2 = pd.DataFrame(tvec2.transform(df['tokenized_text']).todense(), \n",
    "                     columns = tvec2.get_feature_names())"
   ]
  },
  {
   "cell_type": "code",
   "execution_count": 42,
   "id": "d91384a2",
   "metadata": {},
   "outputs": [],
   "source": [
    "df_tvec2 = pd.concat([df, tvec2], axis=1, join='outer')"
   ]
  },
  {
   "cell_type": "code",
   "execution_count": 43,
   "id": "80473c19",
   "metadata": {},
   "outputs": [],
   "source": [
    "preg_df2 = df_tvec2[df_tvec2['beyondbump'] == 0]\n",
    "btb_df2 = df_tvec2[df_tvec2['beyondbump'] == 1]"
   ]
  },
  {
   "cell_type": "code",
   "execution_count": 44,
   "id": "d467d3f9",
   "metadata": {},
   "outputs": [],
   "source": [
    "# show 15 most common bigrams in pregnant subreddit\n",
    "\n",
    "bigrams = []\n",
    "counts = []\n",
    "for col in tvec2.columns: \n",
    "    bigrams.append(col)\n",
    "    counts.append(preg_df2[col].sum())\n",
    "    \n",
    "preg_list_of_bigram_freq = list(zip(bigrams, counts))\n",
    "preg_list_of_bigram_freq.sort(key=lambda x:x[1], reverse=True)"
   ]
  },
  {
   "cell_type": "code",
   "execution_count": 45,
   "id": "56acc0ea",
   "metadata": {},
   "outputs": [
    {
     "data": {
      "text/plain": [
       "[('feel like', 81.23599893628949),\n",
       " ('don know', 43.1825635519954),\n",
       " ('feels like', 33.101022605185214),\n",
       " ('don want', 32.4852021352867),\n",
       " ('days ago', 23.568287009019855),\n",
       " ('make sure', 22.715244625653938),\n",
       " ('gon na', 21.089244555013927),\n",
       " ('weeks days', 19.055489933927984),\n",
       " ('weeks today', 18.45434497349476),\n",
       " ('morning sickness', 17.766486360351173),\n",
       " ('weeks ago', 17.718761061306022),\n",
       " ('covid vaccine', 16.878171841409287),\n",
       " ('second trimester', 16.755628527086756),\n",
       " ('weeks ve', 16.694963408748542),\n",
       " ('couple days', 16.614964190802716)]"
      ]
     },
     "execution_count": 45,
     "metadata": {},
     "output_type": "execute_result"
    }
   ],
   "source": [
    "preg_list_of_bigram_freq[:15]"
   ]
  },
  {
   "cell_type": "code",
   "execution_count": 46,
   "id": "d484b9c2",
   "metadata": {},
   "outputs": [],
   "source": [
    "# show 15 most common bigrams in beyondthebump subreddit\n",
    "\n",
    "bigrams = []\n",
    "counts = []\n",
    "for col in tvec2.columns: \n",
    "    bigrams.append(col)\n",
    "    counts.append(btb_df2[col].sum())\n",
    "    \n",
    "btb_list_of_bigram_freq = list(zip(bigrams, counts))\n",
    "btb_list_of_bigram_freq.sort(key=lambda x:x[1], reverse=True)"
   ]
  },
  {
   "cell_type": "code",
   "execution_count": 47,
   "id": "9979c9e7",
   "metadata": {},
   "outputs": [
    {
     "data": {
      "text/plain": [
       "[('month old', 98.31092640074343),\n",
       " ('feel like', 61.46375537630405),\n",
       " ('months old', 45.432184603881346),\n",
       " ('year old', 44.626793244961476),\n",
       " ('week old', 44.235209907561256),\n",
       " ('don know', 29.04895314612495),\n",
       " ('weeks old', 26.519359486750602),\n",
       " ('don want', 24.972301526472158),\n",
       " ('ve tried', 19.25839467730892),\n",
       " ('breast milk', 18.761352761136205),\n",
       " ('car seat', 17.2206905963995),\n",
       " ('feels like', 16.16202055807777),\n",
       " ('weeks ago', 15.141358201114024),\n",
       " ('months postpartum', 12.869162301376111),\n",
       " ('lo months', 12.727578367805801)]"
      ]
     },
     "execution_count": 47,
     "metadata": {},
     "output_type": "execute_result"
    }
   ],
   "source": [
    "btb_list_of_bigram_freq[:15]"
   ]
  },
  {
   "cell_type": "markdown",
   "id": "ffc39866",
   "metadata": {},
   "source": [
    "### Question Marks"
   ]
  },
  {
   "cell_type": "code",
   "execution_count": 48,
   "id": "ded1b7b7",
   "metadata": {},
   "outputs": [
    {
     "data": {
      "text/plain": [
       "(1418, 5)"
      ]
     },
     "execution_count": 48,
     "metadata": {},
     "output_type": "execute_result"
    }
   ],
   "source": [
    "# identifying how many posts contain question marks for each separate subreddit\n",
    "btb_0 = df['beyondbump'] == 0\n",
    "has_questions = df['full_text'].str.contains('\\?')\n",
    "\n",
    "df[(btb_0) & (has_questions)].shape\n"
   ]
  },
  {
   "cell_type": "code",
   "execution_count": 49,
   "id": "6970f54c",
   "metadata": {},
   "outputs": [
    {
     "data": {
      "text/plain": [
       "(1735, 5)"
      ]
     },
     "execution_count": 49,
     "metadata": {},
     "output_type": "execute_result"
    }
   ],
   "source": [
    "df[df['beyondbump'] == 1].shape # 82% contain question marks"
   ]
  },
  {
   "cell_type": "code",
   "execution_count": 50,
   "id": "5daa78f6",
   "metadata": {},
   "outputs": [
    {
     "data": {
      "text/plain": [
       "(1368, 5)"
      ]
     },
     "execution_count": 50,
     "metadata": {},
     "output_type": "execute_result"
    }
   ],
   "source": [
    "# I'm going to create a column for the number of question marks\n",
    "# since there is such a difference in percentage that includes question marks\n",
    "\n",
    "btb_1 = df['beyondbump'] == 1\n",
    "has_questions = df['full_text'].str.contains('\\?')\n",
    "\n",
    "df[(btb_1) & (has_questions)].shape\n"
   ]
  },
  {
   "cell_type": "code",
   "execution_count": 51,
   "id": "97f699fd",
   "metadata": {},
   "outputs": [
    {
     "data": {
      "text/plain": [
       "(1914, 5)"
      ]
     },
     "execution_count": 51,
     "metadata": {},
     "output_type": "execute_result"
    }
   ],
   "source": [
    "df[df['beyondbump'] == 0].shape # 69%"
   ]
  },
  {
   "cell_type": "code",
   "execution_count": 52,
   "id": "74c64d06",
   "metadata": {},
   "outputs": [],
   "source": [
    "df['question_mark'] = (df['full_text'].str.contains('\\?')).astype(int)"
   ]
  },
  {
   "cell_type": "markdown",
   "id": "0f678f5b",
   "metadata": {},
   "source": [
    "### Bigram Columns"
   ]
  },
  {
   "cell_type": "code",
   "execution_count": 53,
   "id": "2a8858b7",
   "metadata": {},
   "outputs": [],
   "source": [
    "# create a column for whether it says 'weeks old' or 'month(s) old' \n",
    "# since those were popular bigrams for the beyondbump subreddit\n",
    "\n",
    "searchfor = ['weeks old', 'month old', 'months old']\n",
    "df['something_old'] = (df['tokenized_text'].str.contains('|'.join(searchfor))).astype(int)\n"
   ]
  },
  {
   "cell_type": "markdown",
   "id": "fa8e562f",
   "metadata": {},
   "source": [
    "### Exporting Data to CSV"
   ]
  },
  {
   "cell_type": "code",
   "execution_count": 54,
   "id": "252e8088",
   "metadata": {},
   "outputs": [],
   "source": [
    "df.to_csv('../data/clean_df.csv', index=False)"
   ]
  },
  {
   "cell_type": "code",
   "execution_count": null,
   "id": "ff06d8b9",
   "metadata": {},
   "outputs": [],
   "source": []
  }
 ],
 "metadata": {
  "kernelspec": {
   "display_name": "Python 3",
   "language": "python",
   "name": "python3"
  },
  "language_info": {
   "codemirror_mode": {
    "name": "ipython",
    "version": 3
   },
   "file_extension": ".py",
   "mimetype": "text/x-python",
   "name": "python",
   "nbconvert_exporter": "python",
   "pygments_lexer": "ipython3",
   "version": "3.8.8"
  }
 },
 "nbformat": 4,
 "nbformat_minor": 5
}
