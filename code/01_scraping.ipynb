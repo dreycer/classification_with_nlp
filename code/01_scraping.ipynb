{
 "cells": [
  {
   "cell_type": "markdown",
   "id": "6a94856b",
   "metadata": {},
   "source": [
    "# Using NLP to Classify Subreddits\n",
    "\n",
    "## Danielle Reycer\n",
    "\n",
    "## Webscraping\n",
    "\n",
    "## exploring subreddits r/pregnant and r/beyondthebump"
   ]
  },
  {
   "cell_type": "code",
   "execution_count": 6,
   "id": "cfd215f3",
   "metadata": {},
   "outputs": [],
   "source": [
    "import numpy as np\n",
    "import pandas as pd\n",
    "import requests\n",
    "import time"
   ]
  },
  {
   "cell_type": "markdown",
   "id": "4afab0c5",
   "metadata": {},
   "source": [
    "Accessing subreddit posts using the built-in API from reddit"
   ]
  },
  {
   "cell_type": "code",
   "execution_count": 7,
   "id": "3fcfae52",
   "metadata": {},
   "outputs": [],
   "source": [
    "base_url = 'https://api.pushshift.io/reddit/search/submission/'"
   ]
  },
  {
   "cell_type": "code",
   "execution_count": 8,
   "id": "7976c7bf",
   "metadata": {},
   "outputs": [],
   "source": [
    "pregnant_params = {\n",
    "    'subreddit': 'pregnant', \n",
    "    'size': 50\n",
    "}\n",
    "\n",
    "\n",
    "\n"
   ]
  },
  {
   "cell_type": "code",
   "execution_count": 9,
   "id": "307fa16d",
   "metadata": {},
   "outputs": [],
   "source": [
    "res = requests.get(base_url, params=pregnant_params)\n",
    "res.status_code\n",
    "data = res.json()"
   ]
  },
  {
   "cell_type": "markdown",
   "id": "8df9f344",
   "metadata": {},
   "source": [
    "Writing a function to scrape data from Reddit, 50 posts at a time, 40 times (for a total of 2_000 posts)."
   ]
  },
  {
   "cell_type": "code",
   "execution_count": 10,
   "id": "d82632f1",
   "metadata": {},
   "outputs": [],
   "source": [
    "# getting posts from r/pregnant subreddit \n",
    "\n",
    "for i in range(40):\n",
    "    if i == 0: \n",
    "        params = {\n",
    "            'subreddit': 'pregnant', \n",
    "            'size':50\n",
    "        }\n",
    "        res = requests.get(base_url, params=params)\n",
    "        data = res.json()\n",
    "        df1 = pd.DataFrame(data['data'])\n",
    "        earliest = df1['created_utc'].min()\n",
    "        time.sleep(3)\n",
    "    else: \n",
    "        params2 = {\n",
    "            'subreddit': 'pregnant', \n",
    "            'size': 50, \n",
    "            'before': earliest\n",
    "        }\n",
    "        res = requests.get(base_url, params=params2)\n",
    "        data = res.json()\n",
    "        df2 = pd.DataFrame(data['data'])\n",
    "        df1 = pd.concat([df1, df2], ignore_index=True)\n",
    "        earliest = df2['created_utc'].min()\n",
    "        time.sleep(3)\n",
    "\n",
    "df1['subreddit'] = 'pregnant'\n",
    "\n",
    "pregnant_df = df1\n",
    "\n"
   ]
  },
  {
   "cell_type": "code",
   "execution_count": 11,
   "id": "25ee178c",
   "metadata": {},
   "outputs": [
    {
     "data": {
      "text/plain": [
       "(2000, 72)"
      ]
     },
     "execution_count": 11,
     "metadata": {},
     "output_type": "execute_result"
    }
   ],
   "source": [
    "pregnant_df.shape"
   ]
  },
  {
   "cell_type": "code",
   "execution_count": 12,
   "id": "cf205dc2",
   "metadata": {},
   "outputs": [],
   "source": [
    "# getting posts from r/beyondthebump subreddit \n",
    "\n",
    "for i in range(40):\n",
    "    if i == 0: \n",
    "        params = {\n",
    "            'subreddit': 'beyondthebump', \n",
    "            'size':50\n",
    "        }\n",
    "        res = requests.get(base_url, params=params)\n",
    "        data = res.json()\n",
    "        df1 = pd.DataFrame(data['data'])\n",
    "        earliest = df1['created_utc'].min()\n",
    "        time.sleep(3)\n",
    "    else: \n",
    "        params2 = {\n",
    "            'subreddit': 'beyondthebump', \n",
    "            'size': 50, \n",
    "            'before': earliest\n",
    "        }\n",
    "        res = requests.get(base_url, params=params2)\n",
    "        data = res.json()\n",
    "        df2 = pd.DataFrame(data['data'])\n",
    "        df1 = pd.concat([df1, df2], ignore_index=True)\n",
    "        earliest = df2['created_utc'].min()\n",
    "        time.sleep(3)\n",
    "\n",
    "df1['subreddit'] = 'beyondthebump'\n",
    "\n",
    "beyondbump_df = df1\n",
    "\n"
   ]
  },
  {
   "cell_type": "code",
   "execution_count": 13,
   "id": "f9efdacf",
   "metadata": {},
   "outputs": [
    {
     "data": {
      "text/plain": [
       "(2000, 81)"
      ]
     },
     "execution_count": 13,
     "metadata": {},
     "output_type": "execute_result"
    }
   ],
   "source": [
    "beyondbump_df.shape"
   ]
  },
  {
   "cell_type": "markdown",
   "id": "c68a48f7",
   "metadata": {},
   "source": [
    "Limiting the dataframe to include only relevant (to me) columns."
   ]
  },
  {
   "cell_type": "code",
   "execution_count": 14,
   "id": "ff80e2b3",
   "metadata": {},
   "outputs": [],
   "source": [
    "pregnant = pregnant_df[['title', 'selftext', 'subreddit']]"
   ]
  },
  {
   "cell_type": "code",
   "execution_count": 15,
   "id": "a4346aeb",
   "metadata": {},
   "outputs": [],
   "source": [
    "beyondbump = beyondbump_df[['title', 'selftext', 'subreddit']]"
   ]
  },
  {
   "cell_type": "code",
   "execution_count": 16,
   "id": "46c027ab",
   "metadata": {},
   "outputs": [
    {
     "data": {
      "text/html": [
       "<div>\n",
       "<style scoped>\n",
       "    .dataframe tbody tr th:only-of-type {\n",
       "        vertical-align: middle;\n",
       "    }\n",
       "\n",
       "    .dataframe tbody tr th {\n",
       "        vertical-align: top;\n",
       "    }\n",
       "\n",
       "    .dataframe thead th {\n",
       "        text-align: right;\n",
       "    }\n",
       "</style>\n",
       "<table border=\"1\" class=\"dataframe\">\n",
       "  <thead>\n",
       "    <tr style=\"text-align: right;\">\n",
       "      <th></th>\n",
       "      <th>title</th>\n",
       "      <th>selftext</th>\n",
       "      <th>subreddit</th>\n",
       "    </tr>\n",
       "  </thead>\n",
       "  <tbody>\n",
       "    <tr>\n",
       "      <th>0</th>\n",
       "      <td>Prenatals WITHOUT iron!?</td>\n",
       "      <td>For the love of God, can someone please recomm...</td>\n",
       "      <td>pregnant</td>\n",
       "    </tr>\n",
       "    <tr>\n",
       "      <th>1</th>\n",
       "      <td>Told our parents</td>\n",
       "      <td>My bf and I told our parents about us expectin...</td>\n",
       "      <td>pregnant</td>\n",
       "    </tr>\n",
       "    <tr>\n",
       "      <th>2</th>\n",
       "      <td>Doctor asked me to gain weight - should I get ...</td>\n",
       "      <td>Went to my OB today and she was concerned with...</td>\n",
       "      <td>pregnant</td>\n",
       "    </tr>\n",
       "    <tr>\n",
       "      <th>3</th>\n",
       "      <td>Take the stool softeners, &amp;amp; for the love o...</td>\n",
       "      <td>I’m 4 weeks PP and was very fortunate to have ...</td>\n",
       "      <td>pregnant</td>\n",
       "    </tr>\n",
       "    <tr>\n",
       "      <th>4</th>\n",
       "      <td>Ummm blotches on skin???</td>\n",
       "      <td>I can't be the only one!! I'm having like dark...</td>\n",
       "      <td>pregnant</td>\n",
       "    </tr>\n",
       "  </tbody>\n",
       "</table>\n",
       "</div>"
      ],
      "text/plain": [
       "                                               title  \\\n",
       "0                           Prenatals WITHOUT iron!?   \n",
       "1                                   Told our parents   \n",
       "2  Doctor asked me to gain weight - should I get ...   \n",
       "3  Take the stool softeners, &amp; for the love o...   \n",
       "4                           Ummm blotches on skin???   \n",
       "\n",
       "                                            selftext subreddit  \n",
       "0  For the love of God, can someone please recomm...  pregnant  \n",
       "1  My bf and I told our parents about us expectin...  pregnant  \n",
       "2  Went to my OB today and she was concerned with...  pregnant  \n",
       "3  I’m 4 weeks PP and was very fortunate to have ...  pregnant  \n",
       "4  I can't be the only one!! I'm having like dark...  pregnant  "
      ]
     },
     "execution_count": 16,
     "metadata": {},
     "output_type": "execute_result"
    }
   ],
   "source": [
    "pregnant.head()"
   ]
  },
  {
   "cell_type": "code",
   "execution_count": 17,
   "id": "97fd7289",
   "metadata": {},
   "outputs": [
    {
     "data": {
      "text/html": [
       "<div>\n",
       "<style scoped>\n",
       "    .dataframe tbody tr th:only-of-type {\n",
       "        vertical-align: middle;\n",
       "    }\n",
       "\n",
       "    .dataframe tbody tr th {\n",
       "        vertical-align: top;\n",
       "    }\n",
       "\n",
       "    .dataframe thead th {\n",
       "        text-align: right;\n",
       "    }\n",
       "</style>\n",
       "<table border=\"1\" class=\"dataframe\">\n",
       "  <thead>\n",
       "    <tr style=\"text-align: right;\">\n",
       "      <th></th>\n",
       "      <th>title</th>\n",
       "      <th>selftext</th>\n",
       "      <th>subreddit</th>\n",
       "    </tr>\n",
       "  </thead>\n",
       "  <tbody>\n",
       "    <tr>\n",
       "      <th>0</th>\n",
       "      <td>Relationship being tested after child</td>\n",
       "      <td>I guess it’s true when they say a child really...</td>\n",
       "      <td>beyondthebump</td>\n",
       "    </tr>\n",
       "    <tr>\n",
       "      <th>1</th>\n",
       "      <td>Trick for giving baby medicine?</td>\n",
       "      <td>Ok picking your brains here… how in the hell d...</td>\n",
       "      <td>beyondthebump</td>\n",
       "    </tr>\n",
       "    <tr>\n",
       "      <th>2</th>\n",
       "      <td>Wanted to send some love and encouragement</td>\n",
       "      <td>I posted here a few weeks ago, really struggli...</td>\n",
       "      <td>beyondthebump</td>\n",
       "    </tr>\n",
       "    <tr>\n",
       "      <th>3</th>\n",
       "      <td>Did anyone else move in with their parents for...</td>\n",
       "      <td>My parents (especially my mama) are extremely ...</td>\n",
       "      <td>beyondthebump</td>\n",
       "    </tr>\n",
       "    <tr>\n",
       "      <th>4</th>\n",
       "      <td>Diaper rash remedies?</td>\n",
       "      <td>8 month old daughter has a pretty bad diaper r...</td>\n",
       "      <td>beyondthebump</td>\n",
       "    </tr>\n",
       "  </tbody>\n",
       "</table>\n",
       "</div>"
      ],
      "text/plain": [
       "                                               title  \\\n",
       "0              Relationship being tested after child   \n",
       "1                    Trick for giving baby medicine?   \n",
       "2         Wanted to send some love and encouragement   \n",
       "3  Did anyone else move in with their parents for...   \n",
       "4                              Diaper rash remedies?   \n",
       "\n",
       "                                            selftext      subreddit  \n",
       "0  I guess it’s true when they say a child really...  beyondthebump  \n",
       "1  Ok picking your brains here… how in the hell d...  beyondthebump  \n",
       "2  I posted here a few weeks ago, really struggli...  beyondthebump  \n",
       "3  My parents (especially my mama) are extremely ...  beyondthebump  \n",
       "4  8 month old daughter has a pretty bad diaper r...  beyondthebump  "
      ]
     },
     "execution_count": 17,
     "metadata": {},
     "output_type": "execute_result"
    }
   ],
   "source": [
    "beyondbump.head()"
   ]
  },
  {
   "cell_type": "code",
   "execution_count": 19,
   "id": "53353d68",
   "metadata": {},
   "outputs": [],
   "source": [
    "# saving original DF just in case I need them\n",
    "pregnant_df.to_csv('../data/pregnant_df.csv')\n",
    "beyondbump_df.to_csv('../data/beyondbump_df.csv')"
   ]
  },
  {
   "cell_type": "code",
   "execution_count": 20,
   "id": "5af401f2",
   "metadata": {},
   "outputs": [],
   "source": [
    "# dataframes with only three columns\n",
    "pregnant.to_csv('../data/pregnant.csv')\n",
    "beyondbump.to_csv('../data/beyondbump.csv')"
   ]
  },
  {
   "cell_type": "code",
   "execution_count": null,
   "id": "45df8b59",
   "metadata": {},
   "outputs": [],
   "source": []
  }
 ],
 "metadata": {
  "kernelspec": {
   "display_name": "Python 3",
   "language": "python",
   "name": "python3"
  },
  "language_info": {
   "codemirror_mode": {
    "name": "ipython",
    "version": 3
   },
   "file_extension": ".py",
   "mimetype": "text/x-python",
   "name": "python",
   "nbconvert_exporter": "python",
   "pygments_lexer": "ipython3",
   "version": "3.8.8"
  }
 },
 "nbformat": 4,
 "nbformat_minor": 5
}
